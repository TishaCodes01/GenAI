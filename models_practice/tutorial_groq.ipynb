{
 "cells": [
  {
   "cell_type": "markdown",
   "id": "30cf5425",
   "metadata": {},
   "source": [
    "### LLM"
   ]
  },
  {
   "cell_type": "code",
   "execution_count": null,
   "id": "0f76f97c",
   "metadata": {},
   "outputs": [
    {
     "name": "stdout",
     "output_type": "stream",
     "text": [
      "The first person to land on the moon was Neil Armstrong. He stepped out of the lunar module Eagle and onto the moon's surface on July 20, 1969, during the Apollo 11 mission. Armstrong famously declared, \"That's one small step for man, one giant leap for mankind,\" as he became the first human to set foot on the moon.\n"
     ]
    }
   ],
   "source": [
    "from langchain_groq import ChatGroq\n",
    "\n",
    "llm = ChatGroq(\n",
    "    temperature=0, \n",
    "    groq_api_key='secret_key', \n",
    "    model_name=\"llama-3.3-70b-versatile\"\n",
    ")\n",
    "\n",
    "response = llm.invoke(\"The first person to land on moon was ...\")\n",
    "print(response.content)"
   ]
  },
  {
   "cell_type": "code",
   "execution_count": 2,
   "id": "70bc0aff",
   "metadata": {},
   "outputs": [
    {
     "name": "stderr",
     "output_type": "stream",
     "text": [
      "C:\\Users\\dabhi\\AppData\\Local\\Temp\\ipykernel_8216\\958442231.py:1: LangChainDeprecationWarning: The method `BaseChatModel.predict` was deprecated in langchain-core 0.1.7 and will be removed in 1.0. Use :meth:`~invoke` instead.\n",
      "  text = llm.predict('tell me a most funniest joke ')\n"
     ]
    },
    {
     "name": "stdout",
     "output_type": "stream",
     "text": [
      "Here's one that's sure to bring a smile:\n",
      "\n",
      "A man walked into a library and asked the librarian, \"Do you have any books on Pavlov's dogs and Schrödinger's cat?\"\n",
      "\n",
      "The librarian replied, \"It rings a bell, but I'm not sure if it's here or not.\"\n",
      "\n",
      "How's that? Did I make you laugh?\n"
     ]
    }
   ],
   "source": [
    "text = llm.predict('tell me a most funniest joke ')\n",
    "print(text)"
   ]
  },
  {
   "cell_type": "code",
   "execution_count": 61,
   "id": "412a8542",
   "metadata": {},
   "outputs": [
    {
     "name": "stdout",
     "output_type": "stream",
     "text": [
      "The translation of \"Hello\" in French is \"Bonjour\".\n"
     ]
    }
   ],
   "source": [
    "text = llm.predict(\"translate Hello in french\")\n",
    "print(text)"
   ]
  },
  {
   "cell_type": "code",
   "execution_count": 62,
   "id": "edc2d86b",
   "metadata": {},
   "outputs": [
    {
     "name": "stdout",
     "output_type": "stream",
     "text": [
      "To find out how many apples John has now, let's break down the steps:\n",
      "\n",
      "1. John starts with 3 apples.\n",
      "2. He buys 2 more apples, so we add 2 to the initial 3: 3 + 2 = 5 apples.\n",
      "3. Then, he gives 1 apple to his friend, so we subtract 1 from the 5 apples: 5 - 1 = 4 apples.\n",
      "\n",
      "Therefore, John has 4 apples now.\n"
     ]
    }
   ],
   "source": [
    "text = llm.predict(\"John has 3 apples. He buys 2 more. Then, he gives 1 to his friend. How many apples does he have now? Let's think step by step.\")\n",
    "print(text)"
   ]
  },
  {
   "cell_type": "code",
   "execution_count": 63,
   "id": "d9f0c104",
   "metadata": {},
   "outputs": [
    {
     "name": "stdout",
     "output_type": "stream",
     "text": [
      "Blockchain is a digital ledger that records transactions across a network of computers, allowing for secure and transparent data sharing. It's like a digital bookkeeping system where multiple copies of the same information are stored on many computers, making it difficult to alter or manipulate the data.\n"
     ]
    }
   ],
   "source": [
    "text = llm.predict(\"Explain blockchain in simple terms, in less than 3 sentences.\")\n",
    "print(text)"
   ]
  },
  {
   "cell_type": "code",
   "execution_count": 9,
   "id": "371596f6",
   "metadata": {},
   "outputs": [
    {
     "name": "stdout",
     "output_type": "stream",
     "text": [
      "generations=[[ChatGeneration(text='Artificial Intelligence (AI) refers to the development of computer systems that can perform tasks that would typically require human intelligence, such as:\\n\\n1. Learning: AI systems can learn from data and improve their performance over time.\\n2. Problem-solving: AI systems can analyze problems and find solutions.\\n3. Reasoning: AI systems can draw inferences and make decisions based on available data.\\n4. Perception: AI systems can interpret and understand data from sensors, such as images, speech, and text.\\n\\nThe term \"Artificial Intelligence\" was coined in 1956 by John McCarthy, a computer scientist and cognitive scientist. Since then, AI has become a rapidly growing field, with applications in areas such as:\\n\\n1. Virtual assistants (e.g., Siri, Alexa)\\n2. Image and speech recognition\\n3. Natural Language Processing (NLP)\\n4. Robotics\\n5. Expert systems\\n6. Predictive analytics\\n7. Autonomous vehicles\\n\\nThere are several types of AI, including:\\n\\n1. Narrow or Weak AI: Designed to perform a specific task, such as facial recognition or language translation.\\n2. General or Strong AI: A hypothetical AI system that possesses human-like intelligence and can perform any intellectual task.\\n3. Superintelligence: An AI system that is significantly more intelligent than the best human minds.\\n\\nAI systems use various techniques, such as:\\n\\n1. Machine learning: A type of AI that enables systems to learn from data without being explicitly programmed.\\n2. Deep learning: A subset of machine learning that uses neural networks to analyze data.\\n3. Rule-based systems: AI systems that use pre-defined rules to make decisions.\\n\\nThe benefits of AI include:\\n\\n1. Increased efficiency\\n2. Improved accuracy\\n3. Enhanced decision-making\\n4. Personalized experiences\\n\\nHowever, AI also raises concerns about:\\n\\n1. Job displacement\\n2. Bias and fairness\\n3. Privacy and security\\n4. Accountability and transparency\\n\\nOverall, AI has the potential to revolutionize numerous aspects of our lives, from healthcare and education to transportation and entertainment. As AI continues to evolve, it\\'s essential to address the challenges and concerns associated with its development and deployment.', generation_info={'finish_reason': 'stop', 'logprobs': None}, message=AIMessage(content='Artificial Intelligence (AI) refers to the development of computer systems that can perform tasks that would typically require human intelligence, such as:\\n\\n1. Learning: AI systems can learn from data and improve their performance over time.\\n2. Problem-solving: AI systems can analyze problems and find solutions.\\n3. Reasoning: AI systems can draw inferences and make decisions based on available data.\\n4. Perception: AI systems can interpret and understand data from sensors, such as images, speech, and text.\\n\\nThe term \"Artificial Intelligence\" was coined in 1956 by John McCarthy, a computer scientist and cognitive scientist. Since then, AI has become a rapidly growing field, with applications in areas such as:\\n\\n1. Virtual assistants (e.g., Siri, Alexa)\\n2. Image and speech recognition\\n3. Natural Language Processing (NLP)\\n4. Robotics\\n5. Expert systems\\n6. Predictive analytics\\n7. Autonomous vehicles\\n\\nThere are several types of AI, including:\\n\\n1. Narrow or Weak AI: Designed to perform a specific task, such as facial recognition or language translation.\\n2. General or Strong AI: A hypothetical AI system that possesses human-like intelligence and can perform any intellectual task.\\n3. Superintelligence: An AI system that is significantly more intelligent than the best human minds.\\n\\nAI systems use various techniques, such as:\\n\\n1. Machine learning: A type of AI that enables systems to learn from data without being explicitly programmed.\\n2. Deep learning: A subset of machine learning that uses neural networks to analyze data.\\n3. Rule-based systems: AI systems that use pre-defined rules to make decisions.\\n\\nThe benefits of AI include:\\n\\n1. Increased efficiency\\n2. Improved accuracy\\n3. Enhanced decision-making\\n4. Personalized experiences\\n\\nHowever, AI also raises concerns about:\\n\\n1. Job displacement\\n2. Bias and fairness\\n3. Privacy and security\\n4. Accountability and transparency\\n\\nOverall, AI has the potential to revolutionize numerous aspects of our lives, from healthcare and education to transportation and entertainment. As AI continues to evolve, it\\'s essential to address the challenges and concerns associated with its development and deployment.', additional_kwargs={}, response_metadata={'token_usage': {'completion_tokens': 434, 'prompt_tokens': 39, 'total_tokens': 473, 'completion_time': 1.578181818, 'prompt_time': 0.004618, 'queue_time': 0.231870195, 'total_time': 1.582799818}, 'model_name': 'llama-3.3-70b-versatile', 'system_fingerprint': 'fp_76dc6cf67d', 'finish_reason': 'stop', 'logprobs': None}, id='run-03358527-6428-403c-b30c-e6eb106c7993-0', usage_metadata={'input_tokens': 39, 'output_tokens': 434, 'total_tokens': 473}))], [ChatGeneration(text='ML stands for Machine Learning. It is a subset of artificial intelligence (AI) that involves the use of algorithms and statistical models to enable machines to learn from data, make decisions, and improve their performance over time, without being explicitly programmed.\\n\\nMachine learning allows computers to automatically improve their performance on a task by learning from experience, rather than relying on explicit instructions. This is achieved through the use of data, which is used to train the machine learning model, and algorithms, which enable the model to learn from the data.\\n\\nThere are several types of machine learning, including:\\n\\n1. **Supervised Learning**: The machine learning model is trained on labeled data, where the correct output is already known.\\n2. **Unsupervised Learning**: The machine learning model is trained on unlabeled data, and it must find patterns or structure in the data on its own.\\n3. **Reinforcement Learning**: The machine learning model learns by interacting with an environment and receiving rewards or penalties for its actions.\\n\\nMachine learning has many applications, including:\\n\\n1. Image and speech recognition\\n2. Natural language processing\\n3. Predictive analytics\\n4. Recommendation systems\\n5. Autonomous vehicles\\n\\nSome of the key benefits of machine learning include:\\n\\n1. **Improved accuracy**: Machine learning models can learn from large datasets and improve their performance over time.\\n2. **Increased efficiency**: Machine learning models can automate tasks, freeing up human time and resources.\\n3. **Personalization**: Machine learning models can be used to personalize recommendations and experiences for individual users.\\n\\nHowever, machine learning also has some challenges and limitations, including:\\n\\n1. **Data quality**: Machine learning models require high-quality data to learn from.\\n2. **Bias and fairness**: Machine learning models can perpetuate biases and unfairness if the data is biased or incomplete.\\n3. **Explainability**: Machine learning models can be difficult to interpret and understand, making it challenging to explain their decisions.', generation_info={'finish_reason': 'stop', 'logprobs': None}, message=AIMessage(content='ML stands for Machine Learning. It is a subset of artificial intelligence (AI) that involves the use of algorithms and statistical models to enable machines to learn from data, make decisions, and improve their performance over time, without being explicitly programmed.\\n\\nMachine learning allows computers to automatically improve their performance on a task by learning from experience, rather than relying on explicit instructions. This is achieved through the use of data, which is used to train the machine learning model, and algorithms, which enable the model to learn from the data.\\n\\nThere are several types of machine learning, including:\\n\\n1. **Supervised Learning**: The machine learning model is trained on labeled data, where the correct output is already known.\\n2. **Unsupervised Learning**: The machine learning model is trained on unlabeled data, and it must find patterns or structure in the data on its own.\\n3. **Reinforcement Learning**: The machine learning model learns by interacting with an environment and receiving rewards or penalties for its actions.\\n\\nMachine learning has many applications, including:\\n\\n1. Image and speech recognition\\n2. Natural language processing\\n3. Predictive analytics\\n4. Recommendation systems\\n5. Autonomous vehicles\\n\\nSome of the key benefits of machine learning include:\\n\\n1. **Improved accuracy**: Machine learning models can learn from large datasets and improve their performance over time.\\n2. **Increased efficiency**: Machine learning models can automate tasks, freeing up human time and resources.\\n3. **Personalization**: Machine learning models can be used to personalize recommendations and experiences for individual users.\\n\\nHowever, machine learning also has some challenges and limitations, including:\\n\\n1. **Data quality**: Machine learning models require high-quality data to learn from.\\n2. **Bias and fairness**: Machine learning models can perpetuate biases and unfairness if the data is biased or incomplete.\\n3. **Explainability**: Machine learning models can be difficult to interpret and understand, making it challenging to explain their decisions.', additional_kwargs={}, response_metadata={'token_usage': {'completion_tokens': 390, 'prompt_tokens': 39, 'total_tokens': 429, 'completion_time': 1.4181818179999999, 'prompt_time': 0.005100051, 'queue_time': 0.536970432, 'total_time': 1.423281869}, 'model_name': 'llama-3.3-70b-versatile', 'system_fingerprint': 'fp_76dc6cf67d', 'finish_reason': 'stop', 'logprobs': None}, id='run-eb0b2498-6ecb-45e2-ba0a-eccf100d0de6-0', usage_metadata={'input_tokens': 39, 'output_tokens': 390, 'total_tokens': 429}))]] llm_output={'token_usage': {'completion_tokens': 824, 'prompt_tokens': 78, 'total_tokens': 902, 'completion_time': 2.996363636, 'prompt_time': 0.009718051, 'queue_time': 0.7688406270000001, 'total_time': 3.006081687}, 'model_name': 'llama-3.3-70b-versatile', 'system_fingerprint': 'fp_76dc6cf67d'} run=[RunInfo(run_id=UUID('03358527-6428-403c-b30c-e6eb106c7993')), RunInfo(run_id=UUID('eb0b2498-6ecb-45e2-ba0a-eccf100d0de6'))] type='LLMResult'\n"
     ]
    }
   ],
   "source": [
    "from langchain.schema import HumanMessage\n",
    "\n",
    "responses = llm.generate([[HumanMessage(content=\"What is AI?\")], [HumanMessage(content=\"What is ML?\")]])\n",
    "print(responses)\n"
   ]
  },
  {
   "cell_type": "code",
   "execution_count": 11,
   "id": "48ea7bf4",
   "metadata": {},
   "outputs": [
    {
     "name": "stdout",
     "output_type": "stream",
     "text": [
      "content='Here are some fancy name suggestions for your Indian restaurant:\\n\\n1. **Tandoori Nights**: This name evokes the warm, aromatic flavors of Indian cuisine and the magical ambiance of a night out.\\n2. **Spice Route**: This name references the ancient trade routes that brought exotic spices to India, adding a sense of history and adventure to your restaurant.\\n3. **Mumbai Mansion**: This name transports customers to the vibrant city of Mumbai, with its rich cultural heritage and delicious street food.\\n4. **Dhaba Royale**: \"Dhaba\" is a Hindi word for a roadside eatery, but adding \"Royale\" gives it a luxurious twist, suggesting a high-end dining experience.\\n5. **Jaipur Jewel**: Jaipur is a city in India known for its stunning architecture and rich cultural heritage, making it a great inspiration for a restaurant name.\\n6. **Karma Kitchen**: This name adds a touch of spirituality and wellness to your restaurant, suggesting a dining experience that\\'s not just delicious but also nourishing for the soul.\\n7. **Bollywood Bites**: This name captures the energy and excitement of Indian cinema, with a playful nod to the idea of bite-sized, shareable dishes.\\n8. **Saffron & Spice**: Saffron is a prized spice in Indian cuisine, and pairing it with \"Spice\" creates a name that\\'s both elegant and evocative of the aromas and flavors of your restaurant.\\n9. **Taj Mahal Tastes**: The Taj Mahal is an iconic Indian landmark, and using it as inspiration for your restaurant name adds a sense of grandeur and luxury.\\n10. **Garam Masala Grill**: \"Garam masala\" is a blend of spices that\\'s fundamental to Indian cuisine, and pairing it with \"Grill\" suggests a modern, upscale take on traditional Indian flavors.\\n\\nChoose the one that resonates with your vision and style, and good luck with your restaurant!' additional_kwargs={} response_metadata={'token_usage': {'completion_tokens': 400, 'prompt_tokens': 54, 'total_tokens': 454, 'completion_time': 1.4545454549999999, 'prompt_time': 0.006454684, 'queue_time': 0.52980187, 'total_time': 1.461000139}, 'model_name': 'llama-3.3-70b-versatile', 'system_fingerprint': 'fp_76dc6cf67d', 'finish_reason': 'stop', 'logprobs': None} id='run-090e1dae-3891-42f6-8548-a8e23df4f3af-0' usage_metadata={'input_tokens': 54, 'output_tokens': 400, 'total_tokens': 454}\n"
     ]
    }
   ],
   "source": [
    "response = llm.invoke(\"I want to open a restaurant for Indian food. Suggest a fency name for this.\")\n",
    "print(response)"
   ]
  },
  {
   "cell_type": "code",
   "execution_count": 12,
   "id": "ce9d19f1",
   "metadata": {},
   "outputs": [
    {
     "name": "stdout",
     "output_type": "stream",
     "text": [
      "Here are some fancy name suggestions for your Indian restaurant:\n",
      "\n",
      "1. **Tandoori Nights**: This name evokes the warm, aromatic flavors of Indian cuisine and the magical ambiance of a night out.\n",
      "2. **Spice Route**: This name references the ancient trade routes that brought exotic spices to India, adding a sense of history and adventure to your restaurant.\n",
      "3. **Mumbai Mansion**: This name transports customers to the vibrant city of Mumbai, with its rich cultural heritage and delicious street food.\n",
      "4. **Dhaba Royale**: \"Dhaba\" is a Hindi word for a roadside eatery, but adding \"Royale\" gives it a luxurious twist, suggesting a high-end dining experience.\n",
      "5. **Jaipur Jewel**: Jaipur is a city in India known for its stunning architecture and rich cultural heritage, making it a great inspiration for a restaurant name.\n",
      "6. **Karma Kitchen**: This name adds a touch of spirituality and wellness to your restaurant, suggesting a dining experience that's not just delicious but also nourishing for the soul.\n",
      "7. **Bollywood Bites**: This name captures the energy and excitement of Indian cinema, with a playful nod to the idea of bite-sized, shareable dishes.\n",
      "8. **Saffron & Spice**: Saffron is a prized spice in Indian cuisine, and pairing it with \"Spice\" creates a name that's both elegant and evocative of the aromas and flavors of your restaurant.\n",
      "9. **Taj Mahal Tastes**: The Taj Mahal is an iconic Indian landmark, and using it as inspiration for your restaurant name adds a sense of grandeur and luxury.\n",
      "10. **Garam Masala Grill**: \"Garam masala\" is a blend of spices that's fundamental to Indian cuisine, and pairing it with \"Grill\" suggests a modern, upscale take on traditional Indian flavors.\n",
      "\n",
      "Choose the one that resonates with your vision and style, and good luck with your restaurant!\n"
     ]
    }
   ],
   "source": [
    "formatted_response = response.content.replace(\"\\n\", \"\\n\")\n",
    "print(formatted_response)"
   ]
  },
  {
   "cell_type": "code",
   "execution_count": 14,
   "id": "a5a149f6",
   "metadata": {},
   "outputs": [
    {
     "name": "stdout",
     "output_type": "stream",
     "text": [
      "Quantum Computing: A New Era of Computing\n",
      "=====================================\n",
      "\n",
      "### Introduction\n",
      "\n",
      "Quantum computing is a revolutionary technology that uses the principles of quantum mechanics to perform calculations and operations on data. It has the potential to solve complex problems that are currently unsolvable or require an unfeasible amount of time to solve using classical computers.\n",
      "\n",
      "### Classical Computing vs. Quantum Computing\n",
      "\n",
      "Classical computers use bits to store and process information, which can only be in one of two states: 0 or 1. Quantum computers, on the other hand, use quantum bits or qubits, which can exist in multiple states simultaneously. This property, known as superposition, allows quantum computers to process a vast number of possibilities simultaneously, making them potentially much faster than classical computers for certain types of calculations.\n",
      "\n",
      "### Key Concepts\n",
      "\n",
      "* **Qubits**: The fundamental units of quantum information, which can exist in multiple states simultaneously.\n",
      "* **Superposition**: The ability of a qubit to exist in multiple states at the same time.\n",
      "* **Entanglement**: The phenomenon where two or more qubits become connected, allowing their properties to be correlated.\n",
      "* **Quantum gates**: The quantum equivalent of logic gates in classical computing, used to manipulate qubits and perform operations.\n",
      "\n",
      "### How Quantum Computing Works\n",
      "\n",
      "1. **Preparation**: Qubits are prepared in a specific state, which can be a combination of 0 and 1.\n",
      "2. **Quantum gates**: Quantum gates are applied to the qubits to perform operations, such as rotations, entanglement, and measurements.\n",
      "3. **Evolution**: The qubits evolve over time, with their properties changing according to the principles of quantum mechanics.\n",
      "4. **Measurement**: The qubits are measured, which causes their properties to collapse to a specific state.\n",
      "\n",
      "### Applications of Quantum Computing\n",
      "\n",
      "1. **Cryptography**: Quantum computers can potentially break many encryption algorithms currently in use, but they can also be used to create unbreakable encryption methods.\n",
      "2. **Optimization**: Quantum computers can be used to solve complex optimization problems, such as finding the shortest path in a network or the most efficient way to schedule tasks.\n",
      "3. **Simulation**: Quantum computers can be used to simulate complex systems, such as molecules and chemical reactions, which can lead to breakthroughs in fields like medicine and materials science.\n",
      "4. **Machine learning**: Quantum computers can be used to speed up certain machine learning algorithms, such as k-means clustering and support vector machines.\n",
      "\n",
      "### Challenges and Limitations\n",
      "\n",
      "1. **Error correction**: Quantum computers are prone to errors due to the noisy nature of quantum systems, which can be corrected using quantum error correction techniques.\n",
      "2. **Scalability**: Currently, quantum computers are small-scale and need to be scaled up to perform complex calculations.\n",
      "3. **Quantum control**: Maintaining control over the quantum states of qubits is essential for reliable operation.\n",
      "\n",
      "### Conclusion\n",
      "\n",
      "Quantum computing has the potential to revolutionize many fields, from cryptography to optimization and simulation. While there are challenges to overcome, researchers and companies are actively working on developing quantum computing technology, and significant progress has been made in recent years. As the field continues to evolve, we can expect to see new breakthroughs and innovations that will shape the future of computing."
     ]
    }
   ],
   "source": [
    "for token in llm.stream(\"Explain Quantum Computing.\"):\n",
    "    print(token.content, end=\"\")"
   ]
  },
  {
   "cell_type": "markdown",
   "id": "dc53c17f",
   "metadata": {},
   "source": [
    "### PromptTemplate"
   ]
  },
  {
   "cell_type": "code",
   "execution_count": null,
   "id": "4ab8fa95",
   "metadata": {},
   "outputs": [
    {
     "name": "stdout",
     "output_type": "stream",
     "text": [
      "Hello Tisha, welcome to LangChain!\n"
     ]
    }
   ],
   "source": [
    "from langchain.prompts import PromptTemplate\n",
    "\n",
    "# used for static and dynamic handling \n",
    "# 1. static by using partial which will not change\n",
    "# 2. dynamic by passing prompt \n",
    "prompt = PromptTemplate(\n",
    "    input_variables=[\"name\"],\n",
    "    template=\"Hello {name}, welcome to {platform}!\"\n",
    ").partial(platform=\"LangChain\")\n",
    "\n",
    "print(prompt.format(name=\"Tisha\"))\n"
   ]
  },
  {
   "cell_type": "code",
   "execution_count": null,
   "id": "7b9f33cf",
   "metadata": {},
   "outputs": [
    {
     "name": "stdout",
     "output_type": "stream",
     "text": [
      "Tell me about SpaceX.\n"
     ]
    }
   ],
   "source": [
    "from langchain.prompts import PromptTemplate\n",
    "\n",
    "# used only for dynamic handling\n",
    "template = PromptTemplate.from_template(\"Tell me about {topic}.\")\n",
    "prompt = template.format(topic=\"SpaceX\")\n",
    "print(prompt)"
   ]
  },
  {
   "cell_type": "markdown",
   "id": "4e7db288",
   "metadata": {},
   "source": [
    "### chain"
   ]
  },
  {
   "cell_type": "code",
   "execution_count": 22,
   "id": "5d168b45",
   "metadata": {},
   "outputs": [
    {
     "name": "stdout",
     "output_type": "stream",
     "text": [
      "What are health benefits for Veggies\n"
     ]
    }
   ],
   "source": [
    "from langchain.prompts import PromptTemplate\n",
    "\n",
    "prompt_template_name = PromptTemplate(\n",
    "    input_variables =['food_item'],\n",
    "    template = \"What are health benefits for {food_item}\"\n",
    ")\n",
    "p = prompt_template_name.format(food_item=\"Veggies\")\n",
    "print(p)"
   ]
  },
  {
   "cell_type": "markdown",
   "id": "66d12667",
   "metadata": {},
   "source": [
    "#### basic LLM chain"
   ]
  },
  {
   "cell_type": "code",
   "execution_count": 23,
   "id": "c9064049",
   "metadata": {},
   "outputs": [],
   "source": [
    "from langchain.chains import LLMChain\n",
    "\n",
    "chain = LLMChain(llm=llm, prompt=prompt_template_name)\n",
    "response = chain.run(\"Veggies\")"
   ]
  },
  {
   "cell_type": "code",
   "execution_count": 24,
   "id": "078a71d8",
   "metadata": {},
   "outputs": [
    {
     "name": "stdout",
     "output_type": "stream",
     "text": [
      "A wonderful topic! Vegetables are packed with nutrients, fiber, and antioxidants that provide numerous health benefits. Here are some of the key advantages of including veggies in your diet:\n",
      "\n",
      "1. **Reduces Chronic Diseases**: Vegetables are rich in antioxidants, which help protect against chronic diseases like heart disease, cancer, and Alzheimer's disease.\n",
      "2. **Supports Healthy Weight**: Vegetables are low in calories and high in fiber, making them an excellent choice for weight management and weight loss.\n",
      "3. **Promotes Healthy Digestion**: Fiber-rich vegetables like broccoli, carrots, and Brussels sprouts support healthy digestion, preventing constipation and diverticulitis.\n",
      "4. **Boosts Immune System**: Vegetables like bell peppers, spinach, and tomatoes are rich in vitamin C, which helps to boost the immune system and fight off infections.\n",
      "5. **Supports Healthy Bones**: Leafy greens like kale, spinach, and collard greens are rich in calcium, vitamin K, and other minerals that support healthy bone growth and development.\n",
      "6. **May Reduce Cancer Risk**: The antioxidants and phytochemicals in vegetables like cruciferous vegetables (broccoli, cauliflower, and cabbage) may help reduce the risk of certain cancers.\n",
      "7. **Supports Healthy Skin**: Vegetables like carrots, sweet potatoes, and squash are rich in vitamin A, which helps to promote healthy skin and prevent conditions like acne and psoriasis.\n",
      "8. **Helps Manage Blood Sugar**: Vegetables like leafy greens, bell peppers, and cucumbers are low in carbohydrates and rich in fiber, making them an excellent choice for managing blood sugar levels.\n",
      "9. **Supports Healthy Eyes**: Leafy greens like spinach, kale, and collard greens are rich in lutein and zeaxanthin, which help to protect the eyes and prevent age-related macular degeneration.\n",
      "10. **May Improve Mental Health**: The antioxidants and phytochemicals in vegetables like leafy greens, bell peppers, and tomatoes may help to reduce symptoms of anxiety and depression.\n",
      "\n",
      "Some of the most nutritious vegetables include:\n",
      "\n",
      "* Leafy greens (spinach, kale, collard greens)\n",
      "* Cruciferous vegetables (broccoli, cauliflower, cabbage)\n",
      "* Colorful vegetables (bell peppers, carrots, tomatoes)\n",
      "* Allium vegetables (garlic, onions, shallots)\n",
      "* Root vegetables (sweet potatoes, carrots, beets)\n",
      "\n",
      "Remember to aim for a variety of colorful vegetables in your diet to reap the most health benefits!\n"
     ]
    }
   ],
   "source": [
    "print(response)"
   ]
  },
  {
   "cell_type": "code",
   "execution_count": 29,
   "id": "43977fe1",
   "metadata": {},
   "outputs": [
    {
     "name": "stdout",
     "output_type": "stream",
     "text": [
      "I'd be happy to help you with that. Please provide your order number and I'll guide you through the cancellation process. If your order has already been processed, I'll let you know what options are available.\n"
     ]
    }
   ],
   "source": [
    "from langchain.prompts import FewShotPromptTemplate, PromptTemplate\n",
    "\n",
    "# Step 1: Define few-shot examples\n",
    "examples = [\n",
    "    {\"query\": \"I need a refund for my order.\", \"response\": \"Sure! Please provide your order details, and we will process the refund.\"},\n",
    "    {\"query\": \"My package is delayed.\", \"response\": \"Apologies for the delay! We are checking the status and will update you soon.\"},\n",
    "    {\"query\": \"How can I change my delivery address?\", \"response\": \"You can update your address in your account settings, or I can assist you with the change.\"}\n",
    "]\n",
    "\n",
    "# Step 2: Define the format of each example\n",
    "example_template = PromptTemplate(\n",
    "    input_variables=[\"query\", \"response\"],\n",
    "    template=\"Customer: {query}\\nSupport: {response}\\n\"\n",
    ")\n",
    "\n",
    "# Step 3: Create the FewShotPromptTemplate\n",
    "few_shot_prompt = FewShotPromptTemplate(\n",
    "    examples=examples,\n",
    "    example_prompt=example_template,\n",
    "    suffix=\"Customer: {query}\\nSupport:\",\n",
    "    input_variables=[\"query\"]\n",
    ")\n",
    "\n",
    "# Step 4: Generate a new query prompt\n",
    "new_query = {\"query\": \"I want to cancel my order.\"}\n",
    "final_prompt = few_shot_prompt.format(**new_query)\n",
    "response = llm.invoke(final_prompt)\n",
    "\n",
    "print(response.content)"
   ]
  },
  {
   "cell_type": "markdown",
   "id": "4229e732",
   "metadata": {},
   "source": [
    "#### simple sequentail chain"
   ]
  },
  {
   "cell_type": "code",
   "execution_count": 30,
   "id": "fbdf9fbf",
   "metadata": {},
   "outputs": [
    {
     "name": "stdout",
     "output_type": "stream",
     "text": [
      "\n",
      "\n",
      "\u001b[1m> Entering new SimpleSequentialChain chain...\u001b[0m\n",
      "\u001b[36;1m\u001b[1;3mHere are a few suggestions for a fancy name for a French restaurant:\n",
      "\n",
      "1. **Le Coeur de la Vie** (The Heart of Life) - This name evokes the idea of a warm and inviting atmosphere, perfect for a French restaurant.\n",
      "2. **Bistro Belle Époque** (Beautiful Era Bistro) - This name references the elegant and refined era of French history, suggesting a sophisticated dining experience.\n",
      "3. **Le Jardin de Rêves** (The Garden of Dreams) - This name conjures up images of a lush and romantic garden, perfect for a French restaurant with a focus on fine dining.\n",
      "4. **Chez Laurent** (At Laurent's) - This name has a classic, elegant feel to it, suggesting a high-end French restaurant with a personal touch.\n",
      "5. **La Maison de la Bourgeoisie** (The House of the Bourgeoisie) - This name references the rich history and culture of France, suggesting a refined and sophisticated dining experience.\n",
      "6. **Le Petit Château** (The Little Castle) - This name has a charming, whimsical feel to it, suggesting a cozy and intimate French restaurant with a touch of luxury.\n",
      "7. **Café de la Seine** (Seine Café) - This name references the iconic river that runs through the heart of Paris, suggesting a classic French café experience.\n",
      "\n",
      "I hope one of these suggestions sparks your interest and helps you find the perfect name for your French restaurant!\u001b[0m\n",
      "\u001b[33;1m\u001b[1;3mBased on the provided name suggestions for a French restaurant, I will describe the theme and ambiance for each:\n",
      "\n",
      "1. **Le Coeur de la Vie**: This restaurant would have a warm and inviting atmosphere, with a cozy decor that makes guests feel like they're in the heart of a French home. The color palette would be warm and rich, with earthy tones and soft lighting. The ambiance would be intimate and welcoming, perfect for a romantic dinner or a night out with close friends.\n",
      "\n",
      "2. **Bistro Belle Époque**: This restaurant would evoke the elegance and sophistication of the Belle Époque era, with a refined and luxurious atmosphere. The decor would feature intricate details, ornate furnishings, and rich fabrics, transporting guests to a bygone era of French history. The ambiance would be sophisticated and refined, perfect for special occasions or business dinners.\n",
      "\n",
      "3. **Le Jardin de Rêves**: This restaurant would be designed to resemble a lush and romantic garden, with a focus on natural elements and soft colors. The atmosphere would be dreamy and ethereal, with plenty of greenery and floral arrangements. The ambiance would be peaceful and serene, perfect for a relaxing dinner or a romantic evening out.\n",
      "\n",
      "4. **Chez Laurent**: This restaurant would have a classic, elegant feel, with a sophisticated and refined atmosphere. The decor would feature traditional French elements, such as dark wood accents and rich fabrics, with a touch of modern elegance. The ambiance would be warm and inviting, with a personal touch that makes guests feel like they're dining at a friend's home.\n",
      "\n",
      "5. **La Maison de la Bourgeoisie**: This restaurant would reference the rich history and culture of France, with a refined and sophisticated atmosphere. The decor would feature traditional French elements, such as ornate furnishings and rich fabrics, with a focus on elegance and luxury. The ambiance would be refined and cultured, perfect for special occasions or business dinners.\n",
      "\n",
      "6. **Le Petit Château**: This restaurant would have a charming, whimsical feel, with a cozy and intimate atmosphere. The decor would feature fairy-tale elements, such as stone walls and stained glass windows, with a touch of luxury and elegance. The ambiance would be romantic and enchanting, perfect for a special occasion or a night out with loved ones.\n",
      "\n",
      "7. **Café de la Seine**: This restaurant would evoke the classic French café experience, with a casual and relaxed atmosphere. The decor would feature traditional French elements, such as wicker chairs and striped awnings, with a focus on comfort and simplicity. The ambiance would be lively and vibrant, perfect for a casual dinner or a coffee break.\n",
      "\n",
      "Each of these restaurants would offer a unique and immersive dining experience, with a distinct theme and ambiance that reflects the essence of French culture and cuisine.\u001b[0m\n",
      "\n",
      "\u001b[1m> Finished chain.\u001b[0m\n",
      "Based on the provided name suggestions for a French restaurant, I will describe the theme and ambiance for each:\n",
      "\n",
      "1. **Le Coeur de la Vie**: This restaurant would have a warm and inviting atmosphere, with a cozy decor that makes guests feel like they're in the heart of a French home. The color palette would be warm and rich, with earthy tones and soft lighting. The ambiance would be intimate and welcoming, perfect for a romantic dinner or a night out with close friends.\n",
      "\n",
      "2. **Bistro Belle Époque**: This restaurant would evoke the elegance and sophistication of the Belle Époque era, with a refined and luxurious atmosphere. The decor would feature intricate details, ornate furnishings, and rich fabrics, transporting guests to a bygone era of French history. The ambiance would be sophisticated and refined, perfect for special occasions or business dinners.\n",
      "\n",
      "3. **Le Jardin de Rêves**: This restaurant would be designed to resemble a lush and romantic garden, with a focus on natural elements and soft colors. The atmosphere would be dreamy and ethereal, with plenty of greenery and floral arrangements. The ambiance would be peaceful and serene, perfect for a relaxing dinner or a romantic evening out.\n",
      "\n",
      "4. **Chez Laurent**: This restaurant would have a classic, elegant feel, with a sophisticated and refined atmosphere. The decor would feature traditional French elements, such as dark wood accents and rich fabrics, with a touch of modern elegance. The ambiance would be warm and inviting, with a personal touch that makes guests feel like they're dining at a friend's home.\n",
      "\n",
      "5. **La Maison de la Bourgeoisie**: This restaurant would reference the rich history and culture of France, with a refined and sophisticated atmosphere. The decor would feature traditional French elements, such as ornate furnishings and rich fabrics, with a focus on elegance and luxury. The ambiance would be refined and cultured, perfect for special occasions or business dinners.\n",
      "\n",
      "6. **Le Petit Château**: This restaurant would have a charming, whimsical feel, with a cozy and intimate atmosphere. The decor would feature fairy-tale elements, such as stone walls and stained glass windows, with a touch of luxury and elegance. The ambiance would be romantic and enchanting, perfect for a special occasion or a night out with loved ones.\n",
      "\n",
      "7. **Café de la Seine**: This restaurant would evoke the classic French café experience, with a casual and relaxed atmosphere. The decor would feature traditional French elements, such as wicker chairs and striped awnings, with a focus on comfort and simplicity. The ambiance would be lively and vibrant, perfect for a casual dinner or a coffee break.\n",
      "\n",
      "Each of these restaurants would offer a unique and immersive dining experience, with a distinct theme and ambiance that reflects the essence of French culture and cuisine.\n"
     ]
    }
   ],
   "source": [
    "from langchain.chains import SimpleSequentialChain\n",
    "\n",
    "# Chain 1: Generate restaurant name\n",
    "chain1 = LLMChain(\n",
    "    llm=llm,\n",
    "    prompt=PromptTemplate(\n",
    "        input_variables=[\"cuisine\"],\n",
    "        template=\"Suggest a fancy name for a {cuisine} restaurant.\"\n",
    "    )\n",
    ")\n",
    "\n",
    "# Chain 2: Describe the restaurant's theme\n",
    "chain2 = LLMChain(\n",
    "    llm=llm,\n",
    "    prompt=PromptTemplate(\n",
    "        input_variables=[\"restaurant_name\"],\n",
    "        template=\"Describe the theme and ambiance of a restaurant named {restaurant_name}.\"\n",
    "    )\n",
    ")\n",
    "\n",
    "# Create the SimpleSequentialChain\n",
    "simple_chain = SimpleSequentialChain(chains=[chain1, chain2], verbose=True)\n",
    "\n",
    "response = simple_chain.run(\"French\")\n",
    "print(response)\n"
   ]
  },
  {
   "cell_type": "markdown",
   "id": "22d12c54",
   "metadata": {},
   "source": [
    "#### sequential chain"
   ]
  },
  {
   "cell_type": "code",
   "execution_count": 36,
   "id": "f28ea57d",
   "metadata": {},
   "outputs": [
    {
     "name": "stdout",
     "output_type": "stream",
     "text": [
      "\n",
      "\n",
      "\u001b[1m> Entering new SequentialChain chain...\u001b[0m\n",
      "\n",
      "\u001b[1m> Finished chain.\u001b[0m\n",
      "Restaurant Name: Here are a few suggestions for a fancy name for an Italian restaurant:\n",
      "\n",
      "1. **Bella Vita**: This name means \"beautiful life\" in Italian, evoking a sense of elegance and sophistication.\n",
      "2. **Casa della Cucina**: This name translates to \"house of cooking\" and suggests a warm, inviting atmosphere.\n",
      "3. **Il Palazzo**: This name means \"the palace\" and implies a grand, luxurious dining experience.\n",
      "4. **Tavola Italiana**: This name means \"Italian table\" and suggests a warm, welcoming atmosphere.\n",
      "5. **Vino e Vita**: This name means \"wine and life\" and combines two of Italy's greatest passions.\n",
      "6. **La Dolce Vita**: This name means \"the sweet life\" and is a nod to the classic Italian film of the same name.\n",
      "7. **Caffè della Piazza**: This name means \"café of the square\" and suggests a charming, old-world atmosphere.\n",
      "8. **Ristorante Fiorentino**: This name means \"Florentine restaurant\" and suggests a connection to the rich culinary traditions of Florence.\n",
      "9. **Il Giardino**: This name means \"the garden\" and suggests a beautiful, serene atmosphere.\n",
      "10. **Bella Sera**: This name means \"beautiful evening\" and implies a romantic, sophisticated dining experience.\n",
      "\n",
      "I hope one of these suggestions sparks your interest and helps you find the perfect name for your Italian restaurant!\n",
      "Slogan: Here are some catchy slogans for each of the suggested Italian restaurant names:\n",
      "\n",
      "1. **Bella Vita**: \n",
      "   - \"Savoring la dolce vita, one bite at a time.\"\n",
      "   - \"Experience the beauty of Italian cuisine.\"\n",
      "   - \"Where every meal is a taste of la bella vita.\"\n",
      "\n",
      "2. **Casa della Cucina**: \n",
      "   - \"Warmth, love, and a pinch of Italian magic.\"\n",
      "   - \"Come home to the taste of Italy.\"\n",
      "   - \"Where every dish is made with love, in the heart of our casa.\"\n",
      "\n",
      "3. **Il Palazzo**: \n",
      "   - \"Dine like royalty, every time.\"\n",
      "   - \"Elevate your dining experience, in the grand tradition of Italy.\"\n",
      "   - \"Where luxury meets la dolce vita.\"\n",
      "\n",
      "4. **Tavola Italiana**: \n",
      "   - \"Gather 'round, and taste the tradition.\"\n",
      "   - \"Where every meal is a family affair.\"\n",
      "   - \"Savoring the flavors of Italy, together.\"\n",
      "\n",
      "5. **Vino e Vita**: \n",
      "   - \"Uncork the essence of Italy, with every sip and bite.\"\n",
      "   - \"Where wine and life come together, in perfect harmony.\"\n",
      "   - \"Experience the passion of Italy, in every glass and dish.\"\n",
      "\n",
      "6. **La Dolce Vita**: \n",
      "   - \"Indulge in the sweet life, Italian style.\"\n",
      "   - \"Where every meal is a taste of la dolce vita.\"\n",
      "   - \"Savoring the sweetness of Italy, one bite at a time.\"\n",
      "\n",
      "7. **Caffè della Piazza**: \n",
      "   - \"Where every cup is a taste of la dolce vita.\"\n",
      "   - \"Gather, sip, and savor, in the heart of our piazza.\"\n",
      "   - \"Experience the charm of Italy, in every cup and bite.\"\n",
      "\n",
      "8. **Ristorante Fiorentino**: \n",
      "   - \"Taste the tradition of Florence, in every dish.\"\n",
      "   - \"Where every meal is a journey through the flavors of Tuscany.\"\n",
      "   - \"Experience the authentic taste of Italy, in the heart of our ristorante.\"\n",
      "\n",
      "9. **Il Giardino**: \n",
      "   - \"Dine amidst the beauty of nature, and the flavors of Italy.\"\n",
      "   - \"Where every meal is a stroll through the garden of delights.\"\n",
      "   - \"Savoring the freshness of Italy, in every bite.\"\n",
      "\n",
      "10. **Bella Sera**: \n",
      "    - \"Where every evening is a beautiful occasion.\"\n",
      "    - \"Experience the romance of Italy, in every meal.\"\n",
      "    - \"Savoring la dolce vita, under the stars.\"\n",
      "\n",
      "These slogans aim to capture the essence of each restaurant name, emphasizing the unique atmosphere, cuisine, and experience that each establishment offers.\n"
     ]
    }
   ],
   "source": [
    "from langchain.chains import SequentialChain\n",
    "\n",
    "# Chain 1: Generate restaurant name\n",
    "name_chain = LLMChain(\n",
    "    llm=llm,\n",
    "    prompt=PromptTemplate(\n",
    "        input_variables=[\"cuisine\"],\n",
    "        template=\"Suggest a fancy name for a {cuisine} restaurant.\"\n",
    "    ),\n",
    "    output_key=\"restaurant_name\"\n",
    ")\n",
    "\n",
    "# Chain 2: Generate a restaurant slogan\n",
    "slogan_chain = LLMChain(\n",
    "    llm=llm,\n",
    "    prompt=PromptTemplate(\n",
    "        input_variables=[\"restaurant_name\"],\n",
    "        template=\"Create a catchy slogan for the restaurant {restaurant_name}.\"\n",
    "    ),\n",
    "    output_key=\"slogan\"\n",
    ")\n",
    "\n",
    "# Create the SequentialChain\n",
    "sequential_chain = SequentialChain(\n",
    "    chains=[name_chain, slogan_chain],\n",
    "    input_variables=[\"cuisine\"],\n",
    "    output_variables=[\"restaurant_name\", \"slogan\"],\n",
    "    verbose=True\n",
    ")\n",
    "\n",
    "response = sequential_chain({\"cuisine\": \"Italian\"})\n",
    "\n",
    "print(f\"Restaurant Name: {response['restaurant_name']}\\nSlogan: {response['slogan']}\")\n"
   ]
  },
  {
   "cell_type": "markdown",
   "id": "3f2fd7e4",
   "metadata": {},
   "source": [
    "#### transform chain"
   ]
  },
  {
   "cell_type": "code",
   "execution_count": 40,
   "id": "383b130c",
   "metadata": {},
   "outputs": [
    {
     "name": "stdout",
     "output_type": "stream",
     "text": [
      "\n",
      "\n",
      "\u001b[1m> Entering new SequentialChain chain...\u001b[0m\n",
      "\n",
      "\u001b[1m> Finished chain.\u001b[0m\n",
      "Restaurant Name: Here are some suggestions for a fancy name for a Mexican restaurant:\n",
      "\n",
      "1. **El Jardín de las Flores** (The Garden of Flowers) - evoking the vibrant colors and beauty of Mexico.\n",
      "2. **Casa de las Olas** (House of the Waves) - suggesting a connection to the ocean and the fresh seafood often found in Mexican cuisine.\n",
      "3. **La Hacienda de los Sueños** (The Estate of Dreams) - conveying a sense of luxury and elegance.\n",
      "4. **Fiesta del Sol** (Party of the Sun) - capturing the lively and festive spirit of Mexican culture.\n",
      "5. **El Patio de las Estrellas** (The Patio of the Stars) - implying a romantic and celestial atmosphere.\n",
      "6. **La Casa de la Abuela** (The House of the Grandmother) - paying homage to the traditional Mexican cuisine and warm hospitality.\n",
      "7. **Villa Azul** (Blue Villa) - suggesting a sophisticated and refined dining experience.\n",
      "8. **Los Portales de México** (The Gates of Mexico) - inviting customers to experience the rich flavors and culture of Mexico.\n",
      "\n",
      "Choose the one that resonates with your vision and atmosphere, or feel free to modify any of these suggestions to fit your taste. ¡Buen provecho!\n"
     ]
    }
   ],
   "source": [
    "from langchain.chains import TransformChain\n",
    "\n",
    "# Transformation function to uppercase input\n",
    "def uppercase_input(inputs):\n",
    "    return {\"formatted_cuisine\": inputs[\"cuisine\"].upper()}  # Renamed output key\n",
    "\n",
    "# TransformChain to convert cuisine to uppercase\n",
    "transform_chain = TransformChain(\n",
    "    input_variables=[\"cuisine\"], \n",
    "    output_variables=[\"formatted_cuisine\"],  # Renamed output key\n",
    "    transform=uppercase_input\n",
    ")\n",
    "\n",
    "# Chain 1: Generate restaurant name (Uses formatted_cuisine instead of cuisine)\n",
    "name_chain = LLMChain(\n",
    "    llm=llm,\n",
    "    prompt=PromptTemplate(\n",
    "        input_variables=[\"formatted_cuisine\"],  # Updated input variable\n",
    "        template=\"Suggest a fancy name for a {formatted_cuisine} restaurant.\"\n",
    "    ),\n",
    "    output_key=\"restaurant_name\"\n",
    ")\n",
    "\n",
    "# Create the SequentialChain\n",
    "sequential_chain = SequentialChain(\n",
    "    chains=[transform_chain, name_chain],\n",
    "    input_variables=[\"cuisine\"],   # The input remains \"cuisine\"\n",
    "    output_variables=[\"restaurant_name\"],  # Expected final output\n",
    "    verbose=True\n",
    ")\n",
    "\n",
    "# Run the chain\n",
    "response = sequential_chain({\"cuisine\": \"mexican\"})\n",
    "\n",
    "# Print formatted response\n",
    "print(f\"Restaurant Name: {response['restaurant_name']}\")\n"
   ]
  },
  {
   "cell_type": "markdown",
   "id": "e8b2d3ac",
   "metadata": {},
   "source": [
    "#### LLM math chain"
   ]
  },
  {
   "cell_type": "code",
   "execution_count": 42,
   "id": "6480ac1e",
   "metadata": {},
   "outputs": [
    {
     "name": "stderr",
     "output_type": "stream",
     "text": [
      "c:\\Users\\dabhi\\anaconda3\\envs\\envAI\\lib\\site-packages\\langchain\\chains\\llm_math\\base.py:175: UserWarning: Directly instantiating an LLMMathChain with an llm is deprecated. Please instantiate with llm_chain argument or using the from_llm class method.\n",
      "  warnings.warn(\n"
     ]
    },
    {
     "name": "stdout",
     "output_type": "stream",
     "text": [
      "\n",
      "\n",
      "\u001b[1m> Entering new LLMMathChain chain...\u001b[0m\n",
      "What is 15% of 250?\u001b[32;1m\u001b[1;3m```text\n",
      "250 * 0.15\n",
      "```\n",
      "...numexpr.evaluate(\"250 * 0.15\")...\n",
      "\u001b[0m\n",
      "Answer: \u001b[33;1m\u001b[1;3m37.5\u001b[0m\n",
      "\u001b[1m> Finished chain.\u001b[0m\n",
      "Answer: 37.5\n"
     ]
    }
   ],
   "source": [
    "from langchain.chains import LLMMathChain\n",
    "\n",
    "math_chain = LLMMathChain(llm=llm, verbose=True)\n",
    "\n",
    "response = math_chain.run(\"What is 15% of 250?\")\n",
    "print(response)\n"
   ]
  },
  {
   "cell_type": "markdown",
   "id": "5b5a28e5",
   "metadata": {},
   "source": [
    "#### stuff documents chain"
   ]
  },
  {
   "cell_type": "code",
   "execution_count": 45,
   "id": "24df2acd",
   "metadata": {},
   "outputs": [
    {
     "name": "stdout",
     "output_type": "stream",
     "text": [
      "Here's a summary of the two articles:\n",
      "\n",
      "**Article 1: AI in Healthcare**\n",
      "The article discusses how Artificial Intelligence (AI) is transforming the healthcare industry. AI is being used to improve patient outcomes, streamline clinical workflows, and enhance the overall quality of care. With its ability to analyze vast amounts of medical data, AI can help doctors diagnose diseases more accurately, develop personalized treatment plans, and predict patient outcomes. Additionally, AI-powered chatbots and virtual assistants are being used to improve patient engagement and provide remote monitoring services.\n",
      "\n",
      "**Article 2: Advances in Quantum Computing**\n",
      "The article highlights recent breakthroughs in quantum computing, a field that has the potential to revolutionize the way we process information. Quantum computers use quantum-mechanical phenomena, such as superposition and entanglement, to perform calculations that are exponentially faster and more powerful than classical computers. The article discusses new advances in quantum computing hardware, software, and algorithms, which are enabling researchers to tackle complex problems in fields such as cryptography, optimization, and materials science. These advances have the potential to lead to significant breakthroughs in areas such as medicine, finance, and climate modeling.\n"
     ]
    }
   ],
   "source": [
    "from langchain.chains import StuffDocumentsChain, LLMChain\n",
    "from langchain.prompts import PromptTemplate\n",
    "from langchain.schema import Document\n",
    "\n",
    "# Define the documents\n",
    "docs = [\n",
    "    Document(page_content=\"Article 1: AI is revolutionizing healthcare.\"), \n",
    "    Document(page_content=\"Article 2: New advances in quantum computing.\")\n",
    "]\n",
    "\n",
    "# Define the prompt template\n",
    "prompt_template = PromptTemplate(\n",
    "    input_variables=[\"context\"],\n",
    "    template=\"Summarize the following articles:\\n\\n{context}\"\n",
    ")\n",
    "\n",
    "# Create LLMChain\n",
    "llm_chain = LLMChain(llm=llm, prompt=prompt_template)\n",
    "\n",
    "# Create StuffDocumentsChain with LLMChain\n",
    "stuff_chain = StuffDocumentsChain(\n",
    "    llm_chain=llm_chain,  # Correct argument\n",
    "    document_variable_name=\"context\"  # This should match the prompt input variable\n",
    ")\n",
    "\n",
    "# Run the chain\n",
    "response = stuff_chain.run(docs)\n",
    "\n",
    "# Print the summary\n",
    "print(response)\n"
   ]
  },
  {
   "cell_type": "code",
   "execution_count": 3,
   "id": "1cbc2cfb",
   "metadata": {},
   "outputs": [
    {
     "name": "stderr",
     "output_type": "stream",
     "text": [
      "C:\\Users\\dabhi\\AppData\\Local\\Temp\\ipykernel_8216\\3170984821.py:3: LangChainDeprecationWarning: The class `ConversationChain` was deprecated in LangChain 0.2.7 and will be removed in 1.0. Use :meth:`~RunnableWithMessageHistory: https://python.langchain.com/v0.2/api_reference/core/runnables/langchain_core.runnables.history.RunnableWithMessageHistory.html` instead.\n",
      "  convo = ConversationChain(llm=llm)\n",
      "c:\\Users\\dabhi\\anaconda3\\envs\\envAI\\lib\\site-packages\\pydantic\\main.py:214: LangChainDeprecationWarning: Please see the migration guide at: https://python.langchain.com/docs/versions/migrating_memory/\n",
      "  validated_self = self.__pydantic_validator__.validate_python(data, self_instance=self)\n"
     ]
    }
   ],
   "source": [
    "from langchain.chains import ConversationChain\n",
    "\n",
    "convo = ConversationChain(llm=llm)"
   ]
  },
  {
   "cell_type": "code",
   "execution_count": 4,
   "id": "6d6c928a",
   "metadata": {},
   "outputs": [
    {
     "name": "stderr",
     "output_type": "stream",
     "text": [
      "C:\\Users\\dabhi\\AppData\\Local\\Temp\\ipykernel_8216\\4161899043.py:1: LangChainDeprecationWarning: The method `Chain.run` was deprecated in langchain 0.1.0 and will be removed in 1.0. Use :meth:`~invoke` instead.\n",
      "  convo.run(\"who won the world cup in 2018\")\n"
     ]
    },
    {
     "data": {
      "text/plain": [
       "\"The 2018 FIFA World Cup was won by France. They defeated Croatia 4-2 in the final, which took place on July 15, 2018, at the Luzhniki Stadium in Moscow, Russia. This was France's second World Cup title, with their first one being in 1998. The French team was led by coach Didier Deschamps and had notable players like Kylian Mbappé, Antoine Griezmann, and Paul Pogba. It was a thrilling tournament, and France's victory was a memorable one. Would you like to know more about the 2018 World Cup or is there something else I can help you with?\""
      ]
     },
     "execution_count": 4,
     "metadata": {},
     "output_type": "execute_result"
    }
   ],
   "source": [
    "convo.run(\"who won the world cup in 2018\")"
   ]
  },
  {
   "cell_type": "code",
   "execution_count": 7,
   "id": "88fb19bc",
   "metadata": {},
   "outputs": [
    {
     "data": {
      "text/plain": [
       "'I think I\\'ve already answered this question earlier. As I mentioned before, the main reason behind high cholesterol levels is often a combination of genetic and lifestyle factors, but if I had to pinpoint a single key factor, I would say that diet plays a significant role in determining cholesterol levels. A diet high in saturated and trans fats, cholesterol, and refined carbohydrates can contribute to elevated levels of low-density lipoprotein (LDL) cholesterol, also known as \"bad\" cholesterol.\\n\\nHowever, I want to clarify that I\\'ve already provided this information earlier in our conversation. If you\\'d like to know more about cholesterol or explore a different topic, I\\'m here to help. Perhaps you could ask a follow-up question or provide more context about what you\\'re looking for? I\\'ll do my best to provide a more detailed or nuanced answer. Would you like to know more about a specific aspect of cholesterol or is there something else I can help you with?'"
      ]
     },
     "execution_count": 7,
     "metadata": {},
     "output_type": "execute_result"
    }
   ],
   "source": [
    "convo.run(\"what is the main reason behind cholestrol\")"
   ]
  },
  {
   "cell_type": "code",
   "execution_count": 8,
   "id": "c4f6df4c",
   "metadata": {},
   "outputs": [
    {
     "data": {
      "text/plain": [
       "\"You're referring to the 2018 FIFA World Cup. The captain of the winning team, France, was Hugo Lloris. He's a French professional footballer who plays as a goalkeeper and has been the captain of the France national team since 2012. Lloris had a remarkable tournament, leading his team to victory and making several crucial saves throughout the competition. He was also one of the key players in France's 2018 World Cup-winning campaign, and his leadership and experience were instrumental in the team's success. Would you like to know more about Hugo Lloris or the French national team's 2018 World Cup campaign?\""
      ]
     },
     "execution_count": 8,
     "metadata": {},
     "output_type": "execute_result"
    }
   ],
   "source": [
    "convo.run(\"who was the captain of wining team\")"
   ]
  },
  {
   "cell_type": "code",
   "execution_count": 9,
   "id": "36540031",
   "metadata": {},
   "outputs": [
    {
     "name": "stdout",
     "output_type": "stream",
     "text": [
      "Human: who won the world cup in 2018\n",
      "AI: The 2018 FIFA World Cup was won by France. They defeated Croatia 4-2 in the final, which took place on July 15, 2018, at the Luzhniki Stadium in Moscow, Russia. This was France's second World Cup title, with their first one being in 1998. The French team was led by coach Didier Deschamps and had notable players like Kylian Mbappé, Antoine Griezmann, and Paul Pogba. It was a thrilling tournament, and France's victory was a memorable one. Would you like to know more about the 2018 World Cup or is there something else I can help you with?\n",
      "Human: which food is healthy\n",
      "AI: There are numerous healthy food options, and I'd be happy to provide you with a list. Fruits like apples, bananas, and berries are rich in essential vitamins, minerals, and antioxidants. Leafy green vegetables like spinach, kale, and broccoli are packed with nutrients and fiber. Nuts and seeds, such as almonds, walnuts, and chia seeds, are excellent sources of healthy fats and protein. Whole grains like brown rice, quinoa, and whole-wheat bread provide sustained energy and fiber. \n",
      "In terms of specific healthy foods, salmon is an excellent source of omega-3 fatty acids, which are beneficial for heart health. Sweet potatoes are rich in vitamin A and fiber, making them a great option for a healthy side dish. Avocados are a good source of healthy fats, and they're also rich in various vitamins and minerals. \n",
      "It's also important to note that a healthy diet is all about balance and variety. It's recommended to limit your intake of processed and sugary foods, and to stay hydrated by drinking plenty of water. \n",
      "If you're looking for specific dietary advice or recommendations, I can try to provide more tailored information. For example, if you're looking for healthy food options for a specific dietary restriction, such as vegan or gluten-free, I can try to provide more detailed information. Would you like to know more about healthy eating or is there something else I can help you with?\n",
      "Human: what is the min reason behind cholestrol\n",
      "AI: The main reason behind high cholesterol levels is often a combination of genetic and lifestyle factors. However, if I had to pinpoint a single key factor, I would say that diet plays a significant role in determining cholesterol levels. \n",
      "\n",
      "A diet high in saturated and trans fats, cholesterol, and refined carbohydrates can contribute to elevated levels of low-density lipoprotein (LDL) cholesterol, also known as \"bad\" cholesterol. Foods that are high in saturated fats, such as red meat, full-fat dairy products, and processed meats, can increase LDL cholesterol levels. Additionally, consuming high amounts of dietary cholesterol, found in foods like egg yolks and organ meats, can also raise cholesterol levels.\n",
      "\n",
      "On the other hand, a diet rich in fruits, vegetables, whole grains, and healthy fats, such as the Mediterranean diet, can help lower LDL cholesterol and increase levels of high-density lipoprotein (HDL) cholesterol, or \"good\" cholesterol. Other lifestyle factors, such as regular physical activity, maintaining a healthy weight, and not smoking, can also help keep cholesterol levels in check.\n",
      "\n",
      "It's worth noting that genetic factors, such as familial hypercholesterolemia, can also play a significant role in determining cholesterol levels. Certain medical conditions, like hypothyroidism and polycystic ovary syndrome (PCOS), can also increase the risk of developing high cholesterol.\n",
      "\n",
      "If you're concerned about your cholesterol levels, I recommend speaking with a healthcare professional or a registered dietitian who can provide personalized advice and guidance. They can help you develop a comprehensive plan to manage your cholesterol levels and reduce your risk of heart disease. Would you like to know more about cholesterol management or is there something else I can help you with?\n",
      "Human: what is the main reason behind cholestrol\n",
      "AI: I think I've already answered this question earlier. As I mentioned before, the main reason behind high cholesterol levels is often a combination of genetic and lifestyle factors, but if I had to pinpoint a single key factor, I would say that diet plays a significant role in determining cholesterol levels. A diet high in saturated and trans fats, cholesterol, and refined carbohydrates can contribute to elevated levels of low-density lipoprotein (LDL) cholesterol, also known as \"bad\" cholesterol.\n",
      "\n",
      "However, I want to clarify that I've already provided this information earlier in our conversation. If you'd like to know more about cholesterol or explore a different topic, I'm here to help. Perhaps you could ask a follow-up question or provide more context about what you're looking for? I'll do my best to provide a more detailed or nuanced answer. Would you like to know more about a specific aspect of cholesterol or is there something else I can help you with?\n",
      "Human: who was the captain of wining team\n",
      "AI: You're referring to the 2018 FIFA World Cup. The captain of the winning team, France, was Hugo Lloris. He's a French professional footballer who plays as a goalkeeper and has been the captain of the France national team since 2012. Lloris had a remarkable tournament, leading his team to victory and making several crucial saves throughout the competition. He was also one of the key players in France's 2018 World Cup-winning campaign, and his leadership and experience were instrumental in the team's success. Would you like to know more about Hugo Lloris or the French national team's 2018 World Cup campaign?\n"
     ]
    }
   ],
   "source": [
    "print(convo.memory.buffer)"
   ]
  },
  {
   "cell_type": "markdown",
   "id": "dc30e746",
   "metadata": {},
   "source": [
    "#### conversation buffer memory"
   ]
  },
  {
   "cell_type": "code",
   "execution_count": 19,
   "id": "67d3ce01",
   "metadata": {},
   "outputs": [
    {
     "data": {
      "text/plain": [
       "\"The first Cricket World Cup was held in 1975, and it was won by the West Indies. The tournament was hosted by England, and the final match was played at Lord's Cricket Ground in London on June 21, 1975. The West Indies team, led by Clive Lloyd, defeated Australia by 17 runs in the final, with a score of 291/8 in 60 overs, while Australia managed 274 in 58.4 overs. The West Indies' victory was a significant moment in cricket history, marking the beginning of their dominance in international cricket during the late 1970s and early 1980s. Would you like to know more about the 1975 Cricket World Cup or the West Indies team of that era?\""
      ]
     },
     "execution_count": 19,
     "metadata": {},
     "output_type": "execute_result"
    }
   ],
   "source": [
    "from langchain.memory import ConversationBufferMemory\n",
    "\n",
    "buffer_memory = ConversationBufferMemory(memory_key=\"history\")\n",
    "\n",
    "convo_buffer = ConversationChain(\n",
    "    llm=llm,\n",
    "    memory=buffer_memory\n",
    ")\n",
    "convo_buffer.run(\"Who won the first cricket world cup?\")"
   ]
  },
  {
   "cell_type": "code",
   "execution_count": 20,
   "id": "5420e4a4",
   "metadata": {},
   "outputs": [
    {
     "data": {
      "text/plain": [
       "\"That's a simple math question. The answer to 5+5 is 10. I can perform basic arithmetic operations like addition, subtraction, multiplication, and division. If you have any more complex math problems or need help with a specific calculation, feel free to ask. By the way, did you know that the 1975 Cricket World Cup used a 60-over format, where each team faced 60 six-ball overs? The scoring system and rules have evolved over the years, but basic math remains essential in calculating scores and statistics in cricket. Would you like to explore more cricket-related topics or move on to something else?\""
      ]
     },
     "execution_count": 20,
     "metadata": {},
     "output_type": "execute_result"
    }
   ],
   "source": [
    "convo_buffer.run(\"How much is 5+5?\")"
   ]
  },
  {
   "cell_type": "code",
   "execution_count": 22,
   "id": "9b0b4510",
   "metadata": {},
   "outputs": [
    {
     "data": {
      "text/plain": [
       "\"The captain of the winning team in the 1975 Cricket World Cup was Clive Lloyd, a legendary West Indian cricketer. He led the team to victory, scoring 102 runs in the final match against Australia. Clive Lloyd is widely regarded as one of the greatest captains in cricket history, known for his exceptional leadership skills, batting prowess, and all-round ability. Under his captaincy, the West Indies team dominated international cricket, winning numerous Test matches and limited-overs tournaments. Lloyd's leadership and vision played a significant role in shaping the West Indies team's success during the 1970s and 1980s. Would you like to know more about Clive Lloyd's career or the West Indies team's achievements during that era?\""
      ]
     },
     "execution_count": 22,
     "metadata": {},
     "output_type": "execute_result"
    }
   ],
   "source": [
    "convo_buffer.run(\"Who was the captain of the winning team?\")"
   ]
  },
  {
   "cell_type": "code",
   "execution_count": 23,
   "id": "4210cb5e",
   "metadata": {},
   "outputs": [
    {
     "name": "stdout",
     "output_type": "stream",
     "text": [
      "Human: Who won the first cricket world cup?\n",
      "AI: The first Cricket World Cup was held in 1975, and it was won by the West Indies. The tournament was hosted by England, and the final match was played at Lord's Cricket Ground in London on June 21, 1975. The West Indies team, led by Clive Lloyd, defeated Australia by 17 runs in the final, with a score of 291/8 in 60 overs, while Australia managed 274 in 58.4 overs. The West Indies' victory was a significant moment in cricket history, marking the beginning of their dominance in international cricket during the late 1970s and early 1980s. Would you like to know more about the 1975 Cricket World Cup or the West Indies team of that era?\n",
      "Human: How much is 5+5?\n",
      "AI: That's a simple math question. The answer to 5+5 is 10. I can perform basic arithmetic operations like addition, subtraction, multiplication, and division. If you have any more complex math problems or need help with a specific calculation, feel free to ask. By the way, did you know that the 1975 Cricket World Cup used a 60-over format, where each team faced 60 six-ball overs? The scoring system and rules have evolved over the years, but basic math remains essential in calculating scores and statistics in cricket. Would you like to explore more cricket-related topics or move on to something else?\n",
      "Human: Who was the captain of the winning team?\n",
      "AI: The captain of the winning team in the 1975 Cricket World Cup was Clive Lloyd, a legendary West Indian cricketer. He led the team to victory, scoring 102 runs in the final match against Australia. Clive Lloyd is widely regarded as one of the greatest captains in cricket history, known for his exceptional leadership skills, batting prowess, and all-round ability. Under his captaincy, the West Indies team dominated international cricket, winning numerous Test matches and limited-overs tournaments. Lloyd's leadership and vision played a significant role in shaping the West Indies team's success during the 1970s and 1980s. Would you like to know more about Clive Lloyd's career or the West Indies team's achievements during that era?\n"
     ]
    }
   ],
   "source": [
    "print(convo_buffer.memory.buffer)"
   ]
  },
  {
   "cell_type": "markdown",
   "id": "ab9efc3a",
   "metadata": {},
   "source": [
    "#### conversation buffer window memory"
   ]
  },
  {
   "cell_type": "code",
   "execution_count": 14,
   "id": "35fc2e38",
   "metadata": {},
   "outputs": [
    {
     "data": {
      "text/plain": [
       "\"The first Cricket World Cup was held in 1975, and it was won by the West Indies. The tournament was hosted by England, and the final match was played at Lord's Cricket Ground in London on June 21, 1975. The West Indies team, led by Clive Lloyd, defeated Australia by 17 runs in the final, with a score of 291/8 in 60 overs, while Australia managed 274 in 58.4 overs. The West Indies' victory was a significant moment in cricket history, marking the beginning of their dominance in international cricket during the late 1970s and early 1980s. Would you like to know more about the 1975 Cricket World Cup or the West Indies team of that era?\""
      ]
     },
     "execution_count": 14,
     "metadata": {},
     "output_type": "execute_result"
    }
   ],
   "source": [
    "from langchain.memory import ConversationBufferWindowMemory\n",
    "\n",
    "memory = ConversationBufferWindowMemory(k=1)\n",
    "\n",
    "convo2 = ConversationChain(\n",
    "    llm=llm,\n",
    "    memory=memory\n",
    ")\n",
    "convo2.run(\"Who won the first cricket world cup?\")"
   ]
  },
  {
   "cell_type": "code",
   "execution_count": 15,
   "id": "c369fce6",
   "metadata": {},
   "outputs": [
    {
     "data": {
      "text/plain": [
       "\"The answer to 5+5 is 10. This is a basic arithmetic operation that involves adding two numbers together. In this case, when you add 5 and 5, the result is 10. This is a fundamental concept in mathematics that is widely used in various fields, including science, finance, and everyday life. If you'd like to explore more math concepts or practice some calculations, I'd be happy to help!\""
      ]
     },
     "execution_count": 15,
     "metadata": {},
     "output_type": "execute_result"
    }
   ],
   "source": [
    "convo2.run(\"How much is 5+5?\")"
   ]
  },
  {
   "cell_type": "code",
   "execution_count": 16,
   "id": "77970472",
   "metadata": {},
   "outputs": [
    {
     "data": {
      "text/plain": [
       "\"I don't know which specific team or competition you're referring to. There have been many winning teams in various sports and competitions throughout history, and without more context, it's difficult for me to provide a specific answer. Could you please provide more information or clarify which team or competition you're interested in? For example, are you thinking of a particular sports league, such as the NFL or the World Cup, or perhaps a historical event like the first moon landing? I'd be happy to try and help you find the answer once I have more context!\""
      ]
     },
     "execution_count": 16,
     "metadata": {},
     "output_type": "execute_result"
    }
   ],
   "source": [
    "convo2.run(\"Who was the captain of the winning team?\")"
   ]
  },
  {
   "cell_type": "markdown",
   "id": "39fb680c",
   "metadata": {},
   "source": [
    "#### token buffer memory"
   ]
  },
  {
   "cell_type": "code",
   "execution_count": 25,
   "id": "b2835870",
   "metadata": {},
   "outputs": [
    {
     "data": {
      "text/plain": [
       "\"The first Indian Prime Minister was Jawaharlal Nehru. He served as the Prime Minister of India from August 15, 1947, to May 27, 1964, and played a crucial role in shaping the country's early years after independence from British colonial rule. Nehru was a key figure in the Indian independence movement and was a close associate of Mahatma Gandhi. He was sworn in as the first Prime Minister of India by Lord Louis Mountbatten, the last Viceroy of India, on August 15, 1947. Nehru's tenure as Prime Minister was marked by significant economic, social, and political reforms, including the establishment of the Five-Year Plans, the promotion of industrialization and modernization, and the development of India's foreign policy. He is still widely regarded as one of the most important and influential leaders in Indian history. Would you like to know more about Nehru's life, his policies, or his legacy?\""
      ]
     },
     "execution_count": 25,
     "metadata": {},
     "output_type": "execute_result"
    }
   ],
   "source": [
    "from langchain.memory import ConversationTokenBufferMemory\n",
    "token_memory = ConversationTokenBufferMemory(memory_key=\"history\", llm=llm, max_token_limit=100)  # Stores last 100 tokens\n",
    "\n",
    "convo_token = ConversationChain(\n",
    "    llm=llm,\n",
    "    memory=memory\n",
    ")\n",
    "convo_token.run(\"Who was the first indian prime minister?\")"
   ]
  },
  {
   "cell_type": "code",
   "execution_count": 26,
   "id": "c53463f3",
   "metadata": {},
   "outputs": [
    {
     "data": {
      "text/plain": [
       "\"To calculate 10% of 500, we need to multiply 500 by 0.1. So, 10% of 500 is 500 * 0.1 = 50. The answer is 50. Would you like to know more about percentages, or perhaps how to calculate them in different scenarios? I can also provide information on real-world applications of percentages, such as in finance, economics, or statistics, if you're interested!\""
      ]
     },
     "execution_count": 26,
     "metadata": {},
     "output_type": "execute_result"
    }
   ],
   "source": [
    "convo_token.run(\"How much is 10% of 500\")"
   ]
  },
  {
   "cell_type": "code",
   "execution_count": 27,
   "id": "77708870",
   "metadata": {},
   "outputs": [
    {
     "data": {
      "text/plain": [
       "'A percentage is a way to express a value as a fraction of 100. It\\'s a ratio that represents a part of a whole as a number out of 100. The term \"percentage\" comes from the Latin words \"per centum,\" which means \"by hundred.\" In mathematical terms, a percentage can be represented as a decimal or a fraction. For example, 10% can be written as 0.1 or 10/100.\\n\\nPercentages are often used to describe changes, proportions, or rates in various fields, such as finance (e.g., interest rates, investment returns), economics (e.g., inflation rates, GDP growth), statistics (e.g., probability, confidence intervals), and many others.\\n\\nTo break it down further, percentages can be classified into different types, including:\\n\\n1. Increase or decrease: used to describe changes in values, such as a 10% increase in sales or a 5% decrease in prices.\\n2. Proportion: used to describe a part of a whole, such as 25% of the population or 30% of the market share.\\n3. Rate: used to describe a ratio of events or occurrences, such as a 5% interest rate or a 2% error rate.\\n\\nI can provide more information on how to work with percentages, including how to calculate them, convert between different formats (e.g., fractions, decimals), and apply them to real-world problems. Would you like to know more about a specific aspect of percentages or explore some examples and applications?'"
      ]
     },
     "execution_count": 27,
     "metadata": {},
     "output_type": "execute_result"
    }
   ],
   "source": [
    "convo_token.run(\"what is percentage\")"
   ]
  },
  {
   "cell_type": "code",
   "execution_count": 28,
   "id": "1f52911c",
   "metadata": {},
   "outputs": [
    {
     "data": {
      "text/plain": [
       "'The Prime Minister is the head of government in a country with a parliamentary system. The role and responsibilities of a Prime Minister can vary depending on the country, but I can provide some general information and specific details about the position.\\n\\nHistorically, the office of the Prime Minister originated in the United Kingdom in the 18th century, with Sir Robert Walpole being considered the first Prime Minister. The term \"Prime Minister\" was first used officially in the 19th century.\\n\\nIn general, the Prime Minister is responsible for advising the head of state (such as a monarch or president), forming the government, and overseeing the implementation of policies. Some of the key responsibilities of a Prime Minister include:\\n\\n1. Appointing and dismissing ministers: The Prime Minister selects and removes ministers from the cabinet, which is the group of senior government officials responsible for different departments and portfolios.\\n2. Setting the legislative agenda: The Prime Minister plays a crucial role in determining the government\\'s legislative priorities and working with the legislature to pass laws.\\n3. Representing the country: The Prime Minister represents the country on the international stage, meeting with foreign leaders, and negotiating treaties and agreements.\\n4. Leading the government: The Prime Minister is responsible for coordinating the work of different government departments and ensuring that the government\\'s policies are implemented effectively.\\n\\nSome notable examples of Prime Ministers include Winston Churchill (United Kingdom), Jawaharlal Nehru (India), and Pierre Trudeau (Canada). In the United Kingdom, the Prime Minister is also the First Lord of the Treasury and the Minister for the Civil Service.\\n\\nIf you\\'re interested in learning more about a specific country\\'s Prime Minister or the history of the office, I can try to provide more information. Alternatively, I can discuss the differences between a Prime Minister and a President, or explore the role of the Prime Minister in different types of government systems. Would you like to know more about a particular aspect of the Prime Minister\\'s role or explore some examples and case studies?'"
      ]
     },
     "execution_count": 28,
     "metadata": {},
     "output_type": "execute_result"
    }
   ],
   "source": [
    "convo_token.run(\"tell me more about prime minister\")"
   ]
  },
  {
   "cell_type": "code",
   "execution_count": 30,
   "id": "28c55896",
   "metadata": {},
   "outputs": [
    {
     "name": "stdout",
     "output_type": "stream",
     "text": [
      "Human: tell me more about prime minister\n",
      "AI: The Prime Minister is the head of government in a country with a parliamentary system. The role and responsibilities of a Prime Minister can vary depending on the country, but I can provide some general information and specific details about the position.\n",
      "\n",
      "Historically, the office of the Prime Minister originated in the United Kingdom in the 18th century, with Sir Robert Walpole being considered the first Prime Minister. The term \"Prime Minister\" was first used officially in the 19th century.\n",
      "\n",
      "In general, the Prime Minister is responsible for advising the head of state (such as a monarch or president), forming the government, and overseeing the implementation of policies. Some of the key responsibilities of a Prime Minister include:\n",
      "\n",
      "1. Appointing and dismissing ministers: The Prime Minister selects and removes ministers from the cabinet, which is the group of senior government officials responsible for different departments and portfolios.\n",
      "2. Setting the legislative agenda: The Prime Minister plays a crucial role in determining the government's legislative priorities and working with the legislature to pass laws.\n",
      "3. Representing the country: The Prime Minister represents the country on the international stage, meeting with foreign leaders, and negotiating treaties and agreements.\n",
      "4. Leading the government: The Prime Minister is responsible for coordinating the work of different government departments and ensuring that the government's policies are implemented effectively.\n",
      "\n",
      "Some notable examples of Prime Ministers include Winston Churchill (United Kingdom), Jawaharlal Nehru (India), and Pierre Trudeau (Canada). In the United Kingdom, the Prime Minister is also the First Lord of the Treasury and the Minister for the Civil Service.\n",
      "\n",
      "If you're interested in learning more about a specific country's Prime Minister or the history of the office, I can try to provide more information. Alternatively, I can discuss the differences between a Prime Minister and a President, or explore the role of the Prime Minister in different types of government systems. Would you like to know more about a particular aspect of the Prime Minister's role or explore some examples and case studies?\n"
     ]
    }
   ],
   "source": [
    "print(convo_token.memory.buffer)"
   ]
  },
  {
   "cell_type": "markdown",
   "id": "de44909d",
   "metadata": {},
   "source": [
    "#### conversation summary model"
   ]
  },
  {
   "cell_type": "code",
   "execution_count": 32,
   "id": "d973cd1f",
   "metadata": {},
   "outputs": [
    {
     "data": {
      "text/plain": [
       "'The first Indian Prime Minister was Jawaharlal Nehru. He served as the Prime Minister of India from August 15, 1947, to May 27, 1964, and played a crucial role in shaping the country\\'s early years after independence from British colonial rule.\\n\\nNehru was a key figure in the Indian independence movement and was a close associate of Mahatma Gandhi. He was a member of the Indian National Congress and served as the president of the party from 1929 to 1931 and again from 1936 to 1937. After India gained independence, Nehru became the country\\'s first Prime Minister and held the position for nearly 17 years.\\n\\nDuring his tenure, Nehru implemented a number of significant policies and programs, including the establishment of a planned economy, the development of India\\'s infrastructure, and the promotion of social welfare programs. He also played a key role in shaping India\\'s foreign policy, including the country\\'s non-aligned stance during the Cold War.\\n\\nSome of Nehru\\'s notable achievements as Prime Minister include the establishment of the Indian Institutes of Technology (IITs), the Indian Institute of Management (IIMs), and the development of India\\'s space program. He also oversaw the integration of over 500 princely states into the Indian Union and played a key role in promoting India\\'s cultural and artistic heritage.\\n\\nNehru\\'s legacy continues to be felt in India today, and he is widely regarded as one of the country\\'s most important and influential leaders. He is often referred to as the \"Architect of Modern India\" and his birthday, November 14, is celebrated as Children\\'s Day in India.\\n\\nWould you like to know more about Nehru\\'s life and legacy, or is there something else you\\'d like to explore about Indian history or politics?'"
      ]
     },
     "execution_count": 32,
     "metadata": {},
     "output_type": "execute_result"
    }
   ],
   "source": [
    "from langchain.memory import ConversationSummaryMemory\n",
    "summary_memory = ConversationSummaryMemory(memory_key=\"history\", llm=llm)\n",
    "\n",
    "convo_summary = ConversationChain(\n",
    "    llm=llm,\n",
    "    memory=memory\n",
    ")\n",
    "convo_summary.run(\"Who was the first indian prime minister?\")"
   ]
  },
  {
   "cell_type": "code",
   "execution_count": 34,
   "id": "f2e998aa",
   "metadata": {},
   "outputs": [
    {
     "data": {
      "text/plain": [
       "'To calculate 10% of 500, we need to multiply 500 by 0.1. \\n\\n500 * 0.1 = 50\\n\\nSo, 10% of 500 is 50. Would you like to know more about percentages, or is there something else I can help you with, perhaps related to mathematics or a different topic altogether?'"
      ]
     },
     "execution_count": 34,
     "metadata": {},
     "output_type": "execute_result"
    }
   ],
   "source": [
    "convo_summary.run(\"How much is 10% of 500\")"
   ]
  },
  {
   "cell_type": "code",
   "execution_count": 35,
   "id": "79067aef",
   "metadata": {},
   "outputs": [
    {
     "data": {
      "text/plain": [
       "\"The Prime Minister is a fascinating topic. In the context of government and politics, a Prime Minister is the head of government in a country with a parliamentary system. They are typically the leader of the party or coalition with the most seats in the legislature, and are responsible for advising the head of state, such as a monarch or president, and for overseeing the administration of the government.\\n\\nOne notable example is Winston Churchill, who served as the Prime Minister of the United Kingdom from 1940 to 1945, and again from 1951 to 1955. He played a significant role in leading Britain through World War II, and his leadership and oratory skills are still widely studied and admired today.\\n\\nIn terms of specific responsibilities, a Prime Minister's duties can vary depending on the country, but they often include setting the legislative agenda, appointing ministers and other officials, and representing the country on the international stage. For instance, the Prime Minister of Canada is responsible for advising the Governor General, who represents the Canadian monarch, and for overseeing the federal government's departments and agencies.\\n\\nIf you're interested in learning more about a specific Prime Minister or country's government, I'd be happy to try and provide more information. Alternatively, if you have any questions about the role of a Prime Minister in general, or how they compare to other heads of government, such as presidents, I'd do my best to provide a detailed and informative answer. Would you like to know more about a particular aspect of prime ministers or is there something else I can help you with?\""
      ]
     },
     "execution_count": 35,
     "metadata": {},
     "output_type": "execute_result"
    }
   ],
   "source": [
    "convo_summary.run(\"tell me more about prime minister\")"
   ]
  },
  {
   "cell_type": "code",
   "execution_count": 36,
   "id": "b399f2a2",
   "metadata": {},
   "outputs": [
    {
     "name": "stdout",
     "output_type": "stream",
     "text": [
      "Human: tell me more about prime minister\n",
      "AI: The Prime Minister is a fascinating topic. In the context of government and politics, a Prime Minister is the head of government in a country with a parliamentary system. They are typically the leader of the party or coalition with the most seats in the legislature, and are responsible for advising the head of state, such as a monarch or president, and for overseeing the administration of the government.\n",
      "\n",
      "One notable example is Winston Churchill, who served as the Prime Minister of the United Kingdom from 1940 to 1945, and again from 1951 to 1955. He played a significant role in leading Britain through World War II, and his leadership and oratory skills are still widely studied and admired today.\n",
      "\n",
      "In terms of specific responsibilities, a Prime Minister's duties can vary depending on the country, but they often include setting the legislative agenda, appointing ministers and other officials, and representing the country on the international stage. For instance, the Prime Minister of Canada is responsible for advising the Governor General, who represents the Canadian monarch, and for overseeing the federal government's departments and agencies.\n",
      "\n",
      "If you're interested in learning more about a specific Prime Minister or country's government, I'd be happy to try and provide more information. Alternatively, if you have any questions about the role of a Prime Minister in general, or how they compare to other heads of government, such as presidents, I'd do my best to provide a detailed and informative answer. Would you like to know more about a particular aspect of prime ministers or is there something else I can help you with?\n"
     ]
    }
   ],
   "source": [
    "print(convo_summary.memory.buffer)"
   ]
  },
  {
   "cell_type": "markdown",
   "id": "c9c1e8f6",
   "metadata": {},
   "source": [
    "### agents"
   ]
  },
  {
   "cell_type": "code",
   "execution_count": null,
   "id": "7f9394c7",
   "metadata": {},
   "outputs": [],
   "source": [
    "import os\n",
    "\n",
    "os.environ['SERPAPI_API_KEY'] = \"serp_api_key\""
   ]
  },
  {
   "cell_type": "code",
   "execution_count": 44,
   "id": "bd7432f1",
   "metadata": {},
   "outputs": [
    {
     "name": "stdout",
     "output_type": "stream",
     "text": [
      "\n",
      "\n",
      "\u001b[1m> Entering new AgentExecutor chain...\u001b[0m\n",
      "\u001b[32;1m\u001b[1;3mTo find the answer, we need to first determine the year India won its first World Cup, and then add 5 to that year.\n",
      "\n",
      "Thought: India's first World Cup win was in the field of cricket, so we should search for the year India won its first Cricket World Cup.\n",
      "\n",
      "Action: Search\n",
      "Action Input: India first cricket world cup win year\u001b[0m\n",
      "Observation: \u001b[36;1m\u001b[1;3m{'type': 'organic_result', 'title': '1983 Cricket World Cup final - Wikipedia', 'source': 'Wikipedia', 'description': '1983 Cricket World Cup final'}\u001b[0m\n",
      "Thought:\u001b[32;1m\u001b[1;3mObservation: The year India won its first Cricket World Cup was 1983.\n",
      "\n",
      "Thought: Now that we know the year India won its first World Cup, we need to add 5 to that year to get the final answer.\n",
      "\n",
      "Action: Calculator\n",
      "Action Input: 1983 + 5\u001b[0m\n",
      "Observation: \u001b[33;1m\u001b[1;3mAnswer: 1988\u001b[0m\n",
      "Thought:\u001b[32;1m\u001b[1;3mI now know the final answer\n",
      "Final Answer: 1988\u001b[0m\n",
      "\n",
      "\u001b[1m> Finished chain.\u001b[0m\n"
     ]
    },
    {
     "data": {
      "text/plain": [
       "{'input': 'in which year india won first world cup plus 5?', 'output': '1988'}"
      ]
     },
     "execution_count": 44,
     "metadata": {},
     "output_type": "execute_result"
    }
   ],
   "source": [
    "from langchain.agents import AgentType, initialize_agent, load_tools\n",
    "\n",
    "# The tools we'll give the Agent access to. Note that the 'llm-math' tool uses an LLM, so we need to pass that in.\n",
    "tools = load_tools([\"serpapi\", \"llm-math\"], llm=llm)\n",
    "\n",
    "# Finally, let's initialize an agent with the tools, the language model, and the type of agent we want to use.\n",
    "agent = initialize_agent(tools, llm, agent=AgentType.ZERO_SHOT_REACT_DESCRIPTION, verbose=True)\n",
    "\n",
    "# Let's test it out!\n",
    "agent.invoke(\"in which year india won first world cup plus 5?\")"
   ]
  },
  {
   "cell_type": "code",
   "execution_count": 53,
   "id": "2cca1120",
   "metadata": {},
   "outputs": [
    {
     "name": "stdout",
     "output_type": "stream",
     "text": [
      "\n",
      "\n",
      "\u001b[1m> Entering new AgentExecutor chain...\u001b[0m\n",
      "\u001b[32;1m\u001b[1;3mTo find the answer, I first need to determine the birth year of Elon Musk and then divide it by 10.\n",
      "\n",
      "Action: wikipedia\n",
      "Action Input: Elon Musk\u001b[0m\n",
      "Observation: \u001b[36;1m\u001b[1;3mPage: Elon Musk\n",
      "Summary: Elon Reeve Musk ( EE-lon; born June 28, 1971) is a businessman known for his key roles in Tesla, Inc., SpaceX, and Twitter (which he rebranded as X). Since 2025, he has been a senior advisor to United States president Donald Trump and de facto head of the Department of Government Efficiency (DOGE). Musk is the wealthiest person in the world; as of February 2025, Forbes estimates his net worth to be US$353 billion. \n",
      "Born to a prominent family in Pretoria, South Africa, Musk emigrated to Canada in 1989 and acquired its citizenship though his mother. He moved to the U.S. and graduated from the University of Pennsylvania before moving to California to pursue business ventures. In 1995, Musk co-founded the software company Zip2. After its sale in 1999, he co-founded X.com, an online payment company that later merged to form PayPal, which was acquired by eBay in 2002 for $1.5 billion. That year, Musk also became a U.S. citizen.\n",
      "In 2002, Musk founded SpaceX and became its CEO and chief engineer. The company has since led innovations in reusable rockets and commercial spaceflight. In 2004, Musk joined Tesla, Inc., as an early investor, and became its CEO and product architect in 2008; it has become a market leader in electric vehicles. In 2015, he co-founded OpenAI to advance artificial intelligence research, but left its board in 2018. In 2016, Musk co-founded Neuralink, a company focused on brain–computer interfaces, and in 2017 launched the Boring Company, which aims to develop tunnel transportation. Musk was named Time magazine's Person of the Year in 2021. In 2022, he acquired Twitter, implementing significant changes and rebranding it as X in 2023. In January 2025, he was appointed head of Trump's newly created DOGE.\n",
      "Musk's political activities and views have made him a polarizing figure. He has been criticized for making unscientific and misleading statements, including COVID-19 misinformation, affirming antisemitic and transphobic comments, and promoting conspiracy theories. His acquisition of Twitter (now X) was controversial due to a subsequent increase in hate speech and the spread of misinformation on the service. He has engaged in political activities in several countries, including as a vocal and financial supporter of Trump. Musk was the largest donor in the 2024 U.S. presidential election and is a supporter of global far-right figures, causes, and political parties.\n",
      "\n",
      "Page: Elon Musk salute controversy\n",
      "Summary: On January 20, 2025, while speaking at a rally celebrating U.S. president Donald Trump's second inauguration, businessman and political figure Elon Musk twice made a salute interpreted by some as a Nazi or the fascist Roman salute.\n",
      "On his own social media platform, X (formerly Twitter), Musk dismissed the accusations of Nazi sympathies, derided them as being politicized, and described them as a \"tired\" attack. The Anti-Defamation League defended Musk and argued that the gesture carried no significant meaning, but other Jewish organizations have condemned the gesture. Multiple European political parties demanded that Musk be banned from entering their countries. Neo-Nazi and white supremacist groups celebrated the salutes.\n",
      "\n",
      "Page: Wealth of Elon Musk\n",
      "Summary: Elon Musk is the  wealthiest oligarch in the world, with an estimated net worth of US$343 billion as of February 25, 2025, according to the Bloomberg Billionaires Index, and $353 billion according to Forbes, primarily from his ownership stakes in Tesla, Inc., and SpaceX. \n",
      "Having been first listed on the Forbes Billionaires List in 2012, around 75% of Musk's wealth was derived from Tesla stock in November 2020. Describing himself as \"cash poor\", a year later, he became the first person in the world to have a net worth above $300 billion. By December 2024, he became the first person to reach a net worth of $400 billion.\u001b[0m\n",
      "Thought:\u001b[32;1m\u001b[1;3mI have found the birth year of Elon Musk, which is 1971. Now, I need to divide this number by 10 to get the final answer.\n",
      "\n",
      "Action: Calculator\n",
      "Action Input: 1971 / 10\u001b[0m\n",
      "Observation: \u001b[33;1m\u001b[1;3mAnswer: 197.1\u001b[0m\n",
      "Thought:\u001b[32;1m\u001b[1;3mI now know the final answer\n",
      "Final Answer: 197.1\u001b[0m\n",
      "\n",
      "\u001b[1m> Finished chain.\u001b[0m\n"
     ]
    },
    {
     "data": {
      "text/plain": [
       "'197.1'"
      ]
     },
     "execution_count": 53,
     "metadata": {},
     "output_type": "execute_result"
    }
   ],
   "source": [
    "tools2 = load_tools([\"wikipedia\", \"llm-math\"], llm=llm)\n",
    "\n",
    "# Finally, let's initialize an agent with the tools, the language model, and the type of agent we want to use.\n",
    "agent2 = initialize_agent(\n",
    "    tools2, \n",
    "    llm, \n",
    "    agent=AgentType.ZERO_SHOT_REACT_DESCRIPTION, \n",
    "    verbose=True\n",
    ")\n",
    "\n",
    "# Let's test it out!\n",
    "agent2.run(\"In which year was Elon musk born divide by 10\")"
   ]
  },
  {
   "cell_type": "code",
   "execution_count": null,
   "id": "2236c9d4",
   "metadata": {},
   "outputs": [],
   "source": []
  }
 ],
 "metadata": {
  "kernelspec": {
   "display_name": "envAI",
   "language": "python",
   "name": "python3"
  },
  "language_info": {
   "codemirror_mode": {
    "name": "ipython",
    "version": 3
   },
   "file_extension": ".py",
   "mimetype": "text/x-python",
   "name": "python",
   "nbconvert_exporter": "python",
   "pygments_lexer": "ipython3",
   "version": "3.10.16"
  }
 },
 "nbformat": 4,
 "nbformat_minor": 5
}
