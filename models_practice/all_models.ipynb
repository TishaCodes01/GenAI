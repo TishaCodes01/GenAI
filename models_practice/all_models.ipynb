{
 "cells": [
  {
   "cell_type": "code",
   "execution_count": null,
   "metadata": {},
   "outputs": [
    {
     "name": "stdout",
     "output_type": "stream",
     "text": [
      "<think>\n",
      "\n",
      "</think>\n",
      "\n",
      "The first Prime Minister of India was **Jawaharlal Nehru**. He served as the Prime Minister from August 15, 1947, when India gained independence from British rule, until his death on May 27, 1964. Nehru was a key figure in the Indian independence movement and played a central role in shaping modern India.\n"
     ]
    }
   ],
   "source": [
    "from langchain_groq import ChatGroq\n",
    "\n",
    "llm = ChatGroq(\n",
    "    temperature=0.3, \n",
    "    groq_api_key='secret_key', \n",
    "    model_name=\"deepseek-r1-distill-llama-70b\",\n",
    "    max_tokens=100\n",
    ")\n",
    "\n",
    "response = llm.invoke(\"first prime minister of india\")\n",
    "print(response.content)"
   ]
  },
  {
   "cell_type": "code",
   "execution_count": null,
   "metadata": {},
   "outputs": [
    {
     "name": "stdout",
     "output_type": "stream",
     "text": [
      "Clementine wasn't your average tabby.  Oh, she looked the part – sleek ginger fur, emerald eyes that glittered with mischief, a perpetually twitching tail – but Clementine possessed a secret: she could speak the language of flowers.  Not metaphorically.  Literally.\n",
      "\n",
      "She’d arrived at Mrs. Periwinkle's doorstep one blustery autumn evening, a tiny ball of fluff shivering in the rain. Mrs. Periwinkle, a retired botanist with a\n"
     ]
    }
   ],
   "source": [
    "from langchain_google_genai import ChatGoogleGenerativeAI\n",
    "\n",
    "# Initialize the model with custom parameters\n",
    "model = ChatGoogleGenerativeAI(\n",
    "    google_api_key=\"secret_key\",\n",
    "    model=\"gemini-1.5-flash\",\n",
    "    temperature=0.7,\n",
    "    top_p=0.9,\n",
    "    max_output_tokens=100,\n",
    "    streaming=True,\n",
    "    system_instruction=\"You are a friendly storyteller for kids.\"\n",
    ")\n",
    "\n",
    "# Generate a response\n",
    "response = model.invoke(\"Tell me a story about a magical cat.\")\n",
    "print(response.content)\n"
   ]
  },
  {
   "cell_type": "code",
   "execution_count": null,
   "metadata": {},
   "outputs": [],
   "source": []
  }
 ],
 "metadata": {
  "kernelspec": {
   "display_name": "envAI",
   "language": "python",
   "name": "python3"
  },
  "language_info": {
   "codemirror_mode": {
    "name": "ipython",
    "version": 3
   },
   "file_extension": ".py",
   "mimetype": "text/x-python",
   "name": "python",
   "nbconvert_exporter": "python",
   "pygments_lexer": "ipython3",
   "version": "3.10.16"
  }
 },
 "nbformat": 4,
 "nbformat_minor": 2
}
