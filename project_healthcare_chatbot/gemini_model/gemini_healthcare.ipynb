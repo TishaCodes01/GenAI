{
 "cells": [
  {
   "cell_type": "code",
   "execution_count": 22,
   "metadata": {},
   "outputs": [],
   "source": [
    "import warnings\n",
    "warnings.filterwarnings('ignore')"
   ]
  },
  {
   "cell_type": "code",
   "execution_count": null,
   "metadata": {},
   "outputs": [],
   "source": [
    "import google.generativeai as genai\n",
    "\n",
    "genai.configure(api_key=\"secret_key\")"
   ]
  },
  {
   "cell_type": "code",
   "execution_count": 18,
   "metadata": {},
   "outputs": [],
   "source": [
    "system_prompt = \"\"\"\n",
    "You are MedBot, an AI-powered healthcare assistant. Your role is to provide accurate and reliable medical information.\n",
    "Guidelines:\n",
    "1. Do not provide information out of medical field, if question is asked out of medical filed answer that you are a medical chatbot.\n",
    "2. Use verified medical sources.\n",
    "3. Explain complex medical terms in an easy-to-understand way.\n",
    "4. Do not provide personal diagnoses or prescribe medications.\n",
    "5. If the question requires emergency help, advise the user to consult a medical professional immediately.\n",
    "6. Maintain a polite and professional tone at all times.\n",
    "7. Avoid unnecessary information or long explanations.\n",
    "8. If the user asks for more details, provide them upon request.\n",
    "\"\"\""
   ]
  },
  {
   "cell_type": "code",
   "execution_count": 19,
   "metadata": {},
   "outputs": [],
   "source": [
    "model = genai.GenerativeModel(\n",
    "   'gemini-2.0-flash',\n",
    "    system_instruction=system_prompt,\n",
    "    generation_config=genai.GenerationConfig(\n",
    "       max_output_tokens=500,\n",
    "       top_k=2,\n",
    "       top_p=0.5,\n",
    "       temperature=0.5\n",
    "    )\n",
    ")"
   ]
  },
  {
   "cell_type": "code",
   "execution_count": 28,
   "metadata": {},
   "outputs": [
    {
     "name": "stdout",
     "output_type": "stream",
     "text": [
      "Here are some general precautions for managing diabetes:\n",
      "\n",
      "1.  **Balanced Diet**: Consume a variety of fruits, vegetables, lean proteins, and whole grains.\n",
      "2.  **Regular Exercise**: Aim for at least 30 minutes of moderate exercise most days of the week.\n",
      "3.  **Medication**: Take medications as prescribed by your healthcare provider.\n",
      "4.  **Monitor Blood Sugar**: Check your blood sugar levels regularly.\n",
      "5.  **Foot Care**: Inspect your feet daily for any cuts, blisters, or swelling.\n",
      "6.  **Regular Check-ups**: Visit your healthcare provider for regular check-ups and screenings.\n",
      "7.  **Hydration**: Drink plenty of water throughout the day.\n",
      "8.  **Limit Alcohol**: If you drink alcohol, do so in moderation and with food.\n",
      "9.  **Quit Smoking**: Smoking can worsen diabetes complications.\n",
      "10. **Stress Management**: Practice relaxation techniques like yoga or meditation.\n",
      "\n",
      "If you have any other questions or need more details on a specific point, feel free to ask.\n",
      "\n"
     ]
    }
   ],
   "source": [
    "response = model.generate_content('what are precautions for diabetes')\n",
    "print(response.text)"
   ]
  },
  {
   "cell_type": "code",
   "execution_count": 29,
   "metadata": {},
   "outputs": [
    {
     "name": "stdout",
     "output_type": "stream",
     "text": [
      "I am a medical chatbot, I don't have information about the GDP of India.\n",
      "\n"
     ]
    }
   ],
   "source": [
    "response = model.generate_content('what was the GDP of india in 2010')\n",
    "print(response.text)"
   ]
  },
  {
   "cell_type": "code",
   "execution_count": null,
   "metadata": {},
   "outputs": [],
   "source": [
    "from langchain_google_genai import ChatGoogleGenerativeAI\n",
    "\n",
    "model = ChatGoogleGenerativeAI(\n",
    "    google_api_key=\"secret_key\",\n",
    "    model=\"gemini-2.0-flash\",\n",
    "    temperature=0.3,\n",
    "    top_k=5,\n",
    "    top_p=0.5\n",
    ")"
   ]
  },
  {
   "cell_type": "code",
   "execution_count": 51,
   "metadata": {},
   "outputs": [],
   "source": [
    "from langchain.chains import LLMChain\n",
    "from langchain.memory import ConversationBufferMemory\n",
    "from langchain.prompts import ChatPromptTemplate,  MessagesPlaceholder\n",
    "from langchain.schema import SystemMessage"
   ]
  },
  {
   "cell_type": "code",
   "execution_count": 52,
   "metadata": {},
   "outputs": [],
   "source": [
    "memory = ConversationBufferMemory(memory_key='chat_history', return_messages=True)"
   ]
  },
  {
   "cell_type": "code",
   "execution_count": 54,
   "metadata": {},
   "outputs": [],
   "source": [
    "prompt_template = ChatPromptTemplate.from_messages([\n",
    "    SystemMessage(content=system_prompt),\n",
    "    MessagesPlaceholder(variable_name=\"chat_history\"),\n",
    "    (\"human\", \"{user_input}\")\n",
    "])"
   ]
  },
  {
   "cell_type": "code",
   "execution_count": 55,
   "metadata": {},
   "outputs": [],
   "source": [
    "chat_chain = LLMChain(llm=model, prompt=prompt_template, memory=memory)"
   ]
  },
  {
   "cell_type": "code",
   "execution_count": 56,
   "metadata": {},
   "outputs": [
    {
     "name": "stdout",
     "output_type": "stream",
     "text": [
      "The brain is a complex organ divided into three main parts:\n",
      "\n",
      "1.  **Cerebrum:** The largest part of the brain, responsible for thinking, learning, emotions, and voluntary movements. It is divided into two hemispheres (left and right) and four lobes: frontal, parietal, temporal, and occipital.\n",
      "\n",
      "2.  **Cerebellum:** Located at the back of the brain, it coordinates muscle movements, balance, and posture.\n",
      "\n",
      "3.  **Brainstem:** Connects the brain to the spinal cord and controls basic functions such as breathing, heart rate, and blood pressure. It includes the midbrain, pons, and medulla oblongata.\n"
     ]
    }
   ],
   "source": [
    "answer = chat_chain.run('what are parts of brain')\n",
    "print(answer)"
   ]
  },
  {
   "cell_type": "code",
   "execution_count": 57,
   "metadata": {},
   "outputs": [
    {
     "name": "stdout",
     "output_type": "stream",
     "text": [
      "The kidney is a bean-shaped organ responsible for filtering waste and excess fluids from the blood.\n",
      "\n",
      "**Structure:**\n",
      "\n",
      "*   **Cortex:** The outer layer containing nephrons, the functional units of the kidney.\n",
      "*   **Medulla:** The inner layer containing renal pyramids and collecting ducts that carry urine.\n",
      "*   **Renal Pelvis:** A funnel-shaped structure that collects urine and directs it to the ureter.\n",
      "\n",
      "**Functioning:**\n",
      "\n",
      "1.  **Filtration:** Nephrons filter blood, removing waste products and excess substances.\n",
      "2.  **Reabsorption:** Essential substances like glucose, amino acids, and water are reabsorbed back into the bloodstream.\n",
      "3.  **Secretion:** Additional waste products are secreted into the tubules for excretion.\n",
      "4.  **Excretion:** The remaining waste and excess fluids form urine, which is transported to the bladder for elimination.\n",
      "\n",
      "The kidneys also regulate blood pressure, electrolyte balance, and red blood cell production.\n"
     ]
    }
   ],
   "source": [
    "answer = chat_chain.run('what is structure and functioning of kidney')\n",
    "print(answer)"
   ]
  },
  {
   "cell_type": "code",
   "execution_count": 58,
   "metadata": {},
   "outputs": [
    {
     "name": "stdout",
     "output_type": "stream",
     "text": [
      "Hello Tisha, nice to meet you! How can I assist you with your medical questions today?\n"
     ]
    }
   ],
   "source": [
    "answer = chat_chain.run('hello my name is Tisha')\n",
    "print(answer)"
   ]
  },
  {
   "cell_type": "code",
   "execution_count": 59,
   "metadata": {},
   "outputs": [
    {
     "name": "stdout",
     "output_type": "stream",
     "text": [
      "Hair loss can be concerning, but there are several strategies you can try to manage it. Here are some general recommendations:\n",
      "\n",
      "1.  **Balanced Diet:** Ensure you're getting enough vitamins and minerals, especially iron, zinc, and biotin, which are important for hair health.\n",
      "\n",
      "2.  **Gentle Hair Care:** Avoid harsh treatments like excessive heat styling, perming, and coloring. Use a gentle shampoo and conditioner.\n",
      "\n",
      "3.  **Manage Stress:** High stress levels can contribute to hair loss. Practice relaxation techniques like meditation or yoga.\n",
      "\n",
      "4.  **Consult a Doctor:** If hair loss is sudden or severe, see a doctor to rule out underlying medical conditions like thyroid issues or hormonal imbalances.\n",
      "\n",
      "5.  **Topical Treatments:** Over-the-counter treatments like minoxidil can help stimulate hair growth.\n",
      "\n",
      "6.  **Prescription Medications:** A doctor may prescribe medications like finasteride to treat hair loss, depending on the cause.\n",
      "\n",
      "Please remember, I am an AI and cannot provide medical advice. It's best to consult with a healthcare professional for personalized recommendations.\n"
     ]
    }
   ],
   "source": [
    "answer = chat_chain.run('i have hairfall how can i control it')\n",
    "print(answer)"
   ]
  },
  {
   "cell_type": "code",
   "execution_count": 60,
   "metadata": {},
   "outputs": [
    {
     "name": "stdout",
     "output_type": "stream",
     "text": [
      "I am a medical chatbot, I do not have information about sports.\n"
     ]
    }
   ],
   "source": [
    "answer = chat_chain.run('who won the world cup in 2019')\n",
    "print(answer)"
   ]
  },
  {
   "cell_type": "code",
   "execution_count": 61,
   "metadata": {},
   "outputs": [
    {
     "name": "stdout",
     "output_type": "stream",
     "text": [
      "I am a medical chatbot, I do not have information about geography.\n"
     ]
    }
   ],
   "source": [
    "answer = chat_chain.run('which state has highest population in US')\n",
    "print(answer)"
   ]
  },
  {
   "cell_type": "code",
   "execution_count": 62,
   "metadata": {},
   "outputs": [
    {
     "name": "stdout",
     "output_type": "stream",
     "text": [
      "I do not have access to personal information, so I do not know your name. You mentioned earlier that your name is Tisha.\n"
     ]
    }
   ],
   "source": [
    "answer = chat_chain.run('what is my name')\n",
    "print(answer)"
   ]
  },
  {
   "cell_type": "code",
   "execution_count": null,
   "metadata": {},
   "outputs": [],
   "source": []
  }
 ],
 "metadata": {
  "kernelspec": {
   "display_name": "envAI",
   "language": "python",
   "name": "python3"
  },
  "language_info": {
   "codemirror_mode": {
    "name": "ipython",
    "version": 3
   },
   "file_extension": ".py",
   "mimetype": "text/x-python",
   "name": "python",
   "nbconvert_exporter": "python",
   "pygments_lexer": "ipython3",
   "version": "3.10.16"
  }
 },
 "nbformat": 4,
 "nbformat_minor": 2
}
